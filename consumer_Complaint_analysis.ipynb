{
 "cells": [
  {
   "cell_type": "code",
   "execution_count": 2,
   "metadata": {
    "nbpresent": {
     "id": "d4f8c892-fc11-4727-b704-fdb8b7bab320"
    }
   },
   "outputs": [],
   "source": [
    "import numpy as np\n",
    "import pandas as pd\n",
    "import matplotlib\n",
    "import matplotlib.pyplot as plt\n",
    "from pylab import * \n",
    "import pylab as plab\n",
    "from pandas.plotting import scatter_matrix\n",
    "import seaborn as sns\n",
    "import folium\n",
    "from branca.colormap import linear\n",
    "import os\n",
    "import json\n",
    "%matplotlib inline\n",
    "\n",
    "\n",
    "matplotlib.style.use('ggplot')\n",
    "import csv as csv\n",
    "#from itertools import groupby\n",
    "pd.options.display.max_info_columns\n",
    "pd.options.display.max_columns=100 \n",
    "#np.set_printoptions(precision=4, suppress=True)"
   ]
  },
  {
   "cell_type": "markdown",
   "metadata": {
    "nbpresent": {
     "id": "4cf98ecd-f51c-4d43-993b-d7dcec208895"
    }
   },
   "source": [
    "\n",
    "Question 1: Which product is the most complained about?\n",
    "\n",
    "Question 2:  what is the most popular way of submitting complaints?\n",
    "\n",
    "Question 3:  Is it possible to identify the top 10 company that the consumers have and least complain about? \n",
    "\n",
    "Question 4: what are the top 5 issues that consumers complained about?\n",
    "\n",
    "Question 5: Is there any particular month or period of the year in which consumers’ complaints are not answer on \n",
    "\n",
    "QUESTION 6 :  how does the response to consumers’ complaint spread over the year  \n",
    "\n",
    "Question 7: which states have the highest mortgage complaints?\n",
    "\n",
    "Question 8: how many credit card complaints have been filled in California compared to the state of Montana?\n",
    "\n",
    "The Consumer Complaint Database contains complaints we’ve received about consumer financial products and services, including:\n",
    "\n",
    "Bank accounts or services\n",
    "Consumer loans\n",
    "Credit cards\n",
    "Credit reporting\n",
    "Debt collection\n",
    "Money transfers\n",
    "Mortgages\n",
    "Prepaid cards\n",
    "Payday loans\n",
    "Student loans (private student loans and federal student loan servicing)\n",
    "Virtual currency\n",
    "Other consumer loan (such as pawn and title loans)\n",
    "Other financial service (such as credit repair and debt settlement)\n",
    "\n"
   ]
  },
  {
   "cell_type": "code",
   "execution_count": 3,
   "metadata": {
    "nbpresent": {
     "id": "88c16523-c4aa-48a2-8a01-ae92cf584c2e"
    }
   },
   "outputs": [
    {
     "data": {
      "text/plain": [
       "array([['03-12-2014', 'Mortgage', 'Other mortgage', ..., 'No', 759217,\n",
       "        nan],\n",
       "       ['10-01-2016', 'Credit reporting', nan, ..., 'No', 2141773, nan],\n",
       "       ['10/17/2016', 'Consumer Loan', 'Vehicle loan', ..., 'No',\n",
       "        2163100, nan],\n",
       "       ...,\n",
       "       ['01-04-2017', 'Mortgage', 'Conventional fixed mortgage', ...,\n",
       "        'No', 2274241, nan],\n",
       "       ['09/28/2015', 'Debt collection', 'Non-federal student loan', ...,\n",
       "        'No', 1582525, nan],\n",
       "       ['08/19/2016', 'Debt collection', 'Payday loan', ..., 'Yes',\n",
       "        2073214, nan]], dtype=object)"
      ]
     },
     "execution_count": 3,
     "metadata": {},
     "output_type": "execute_result"
    }
   ],
   "source": [
    "complaint_data=pd.read_csv('Consumer_Complaints.csv', sep=',',header='infer',parse_dates=True, dayfirst = True, engine=\"python\")\n",
    "complaint_data.values"
   ]
  },
  {
   "cell_type": "code",
   "execution_count": 13,
   "metadata": {},
   "outputs": [],
   "source": [
    "complaint_data=complaint_data.drop('Unnamed: 18',axis=1)"
   ]
  },
  {
   "cell_type": "code",
   "execution_count": 14,
   "metadata": {
    "nbpresent": {
     "id": "164bd298-d86e-480c-a523-3516c4e74de1"
    }
   },
   "outputs": [
    {
     "data": {
      "text/html": [
       "<div>\n",
       "<style scoped>\n",
       "    .dataframe tbody tr th:only-of-type {\n",
       "        vertical-align: middle;\n",
       "    }\n",
       "\n",
       "    .dataframe tbody tr th {\n",
       "        vertical-align: top;\n",
       "    }\n",
       "\n",
       "    .dataframe thead th {\n",
       "        text-align: right;\n",
       "    }\n",
       "</style>\n",
       "<table border=\"1\" class=\"dataframe\">\n",
       "  <thead>\n",
       "    <tr style=\"text-align: right;\">\n",
       "      <th></th>\n",
       "      <th>Date received</th>\n",
       "      <th>Product</th>\n",
       "      <th>Sub-product</th>\n",
       "      <th>Issue</th>\n",
       "      <th>Sub-issue</th>\n",
       "      <th>Consumer Complaint</th>\n",
       "      <th>Company Public Response</th>\n",
       "      <th>Company</th>\n",
       "      <th>State</th>\n",
       "      <th>ZIP code</th>\n",
       "      <th>Tags</th>\n",
       "      <th>Consumer consent provided?</th>\n",
       "      <th>Submitted via</th>\n",
       "      <th>Date Sent to Company</th>\n",
       "      <th>Company Response to Consumer</th>\n",
       "      <th>Timely response?</th>\n",
       "      <th>Consumer disputed?</th>\n",
       "      <th>Complaint ID</th>\n",
       "    </tr>\n",
       "  </thead>\n",
       "  <tbody>\n",
       "    <tr>\n",
       "      <th>0</th>\n",
       "      <td>03-12-2014</td>\n",
       "      <td>Mortgage</td>\n",
       "      <td>Other mortgage</td>\n",
       "      <td>Loan modification,collection,foreclosure</td>\n",
       "      <td>NaN</td>\n",
       "      <td>NaN</td>\n",
       "      <td>NaN</td>\n",
       "      <td>M&amp;T BANK CORPORATION</td>\n",
       "      <td>MI</td>\n",
       "      <td>48382</td>\n",
       "      <td>NaN</td>\n",
       "      <td>NaN</td>\n",
       "      <td>Referral</td>\n",
       "      <td>03/17/2014</td>\n",
       "      <td>Closed with explanation</td>\n",
       "      <td>Yes</td>\n",
       "      <td>No</td>\n",
       "      <td>759217</td>\n",
       "    </tr>\n",
       "  </tbody>\n",
       "</table>\n",
       "</div>"
      ],
      "text/plain": [
       "  Date received   Product     Sub-product  \\\n",
       "0    03-12-2014  Mortgage  Other mortgage   \n",
       "\n",
       "                                      Issue Sub-issue Consumer Complaint  \\\n",
       "0  Loan modification,collection,foreclosure       NaN                NaN   \n",
       "\n",
       "  Company Public Response               Company State ZIP code Tags  \\\n",
       "0                     NaN  M&T BANK CORPORATION    MI    48382  NaN   \n",
       "\n",
       "  Consumer consent provided? Submitted via Date Sent to Company  \\\n",
       "0                        NaN      Referral           03/17/2014   \n",
       "\n",
       "  Company Response to Consumer Timely response? Consumer disputed?  \\\n",
       "0      Closed with explanation              Yes                 No   \n",
       "\n",
       "   Complaint ID  \n",
       "0        759217  "
      ]
     },
     "execution_count": 14,
     "metadata": {},
     "output_type": "execute_result"
    }
   ],
   "source": [
    "complaint_data.head(1)"
   ]
  },
  {
   "cell_type": "code",
   "execution_count": 15,
   "metadata": {
    "nbpresent": {
     "id": "fe259e9b-a50f-4b32-8b54-c23bc3566be2"
    }
   },
   "outputs": [
    {
     "data": {
      "text/html": [
       "<div>\n",
       "<style scoped>\n",
       "    .dataframe tbody tr th:only-of-type {\n",
       "        vertical-align: middle;\n",
       "    }\n",
       "\n",
       "    .dataframe tbody tr th {\n",
       "        vertical-align: top;\n",
       "    }\n",
       "\n",
       "    .dataframe thead th {\n",
       "        text-align: right;\n",
       "    }\n",
       "</style>\n",
       "<table border=\"1\" class=\"dataframe\">\n",
       "  <thead>\n",
       "    <tr style=\"text-align: right;\">\n",
       "      <th></th>\n",
       "      <th>Date received</th>\n",
       "      <th>Product</th>\n",
       "      <th>Sub-product</th>\n",
       "      <th>Issue</th>\n",
       "      <th>Sub-issue</th>\n",
       "      <th>Consumer Complaint</th>\n",
       "      <th>Company Public Response</th>\n",
       "      <th>Company</th>\n",
       "      <th>State</th>\n",
       "      <th>ZIP code</th>\n",
       "      <th>Tags</th>\n",
       "      <th>Consumer consent provided?</th>\n",
       "      <th>Submitted via</th>\n",
       "      <th>Date Sent to Company</th>\n",
       "      <th>Company Response to Consumer</th>\n",
       "      <th>Timely response?</th>\n",
       "      <th>Consumer disputed?</th>\n",
       "      <th>Complaint ID</th>\n",
       "    </tr>\n",
       "  </thead>\n",
       "  <tbody>\n",
       "    <tr>\n",
       "      <th>0</th>\n",
       "      <td>03-12-2014</td>\n",
       "      <td>Mortgage</td>\n",
       "      <td>Other mortgage</td>\n",
       "      <td>Loan modification,collection,foreclosure</td>\n",
       "      <td>NaN</td>\n",
       "      <td>NaN</td>\n",
       "      <td>NaN</td>\n",
       "      <td>M&amp;T BANK CORPORATION</td>\n",
       "      <td>MI</td>\n",
       "      <td>48382</td>\n",
       "      <td>NaN</td>\n",
       "      <td>NaN</td>\n",
       "      <td>Referral</td>\n",
       "      <td>03/17/2014</td>\n",
       "      <td>Closed with explanation</td>\n",
       "      <td>Yes</td>\n",
       "      <td>No</td>\n",
       "      <td>759217</td>\n",
       "    </tr>\n",
       "    <tr>\n",
       "      <th>1</th>\n",
       "      <td>10-01-2016</td>\n",
       "      <td>Credit reporting</td>\n",
       "      <td>NaN</td>\n",
       "      <td>Incorrect information on credit report</td>\n",
       "      <td>Account status</td>\n",
       "      <td>I have outdated information on my credit repor...</td>\n",
       "      <td>Company has responded to the consumer and the ...</td>\n",
       "      <td>TRANSUNION INTERMEDIATE HOLDINGS, INC.</td>\n",
       "      <td>AL</td>\n",
       "      <td>352XX</td>\n",
       "      <td>NaN</td>\n",
       "      <td>Consent provided</td>\n",
       "      <td>Web</td>\n",
       "      <td>10-05-2016</td>\n",
       "      <td>Closed with explanation</td>\n",
       "      <td>Yes</td>\n",
       "      <td>No</td>\n",
       "      <td>2141773</td>\n",
       "    </tr>\n",
       "    <tr>\n",
       "      <th>2</th>\n",
       "      <td>10/17/2016</td>\n",
       "      <td>Consumer Loan</td>\n",
       "      <td>Vehicle loan</td>\n",
       "      <td>Managing the loan or lease</td>\n",
       "      <td>NaN</td>\n",
       "      <td>I purchased a new car on XXXX XXXX. The car de...</td>\n",
       "      <td>NaN</td>\n",
       "      <td>CITIZENS FINANCIAL GROUP, INC.</td>\n",
       "      <td>PA</td>\n",
       "      <td>177XX</td>\n",
       "      <td>Older American</td>\n",
       "      <td>Consent provided</td>\n",
       "      <td>Web</td>\n",
       "      <td>10/20/2016</td>\n",
       "      <td>Closed with explanation</td>\n",
       "      <td>Yes</td>\n",
       "      <td>No</td>\n",
       "      <td>2163100</td>\n",
       "    </tr>\n",
       "    <tr>\n",
       "      <th>3</th>\n",
       "      <td>06-08-2014</td>\n",
       "      <td>Credit card</td>\n",
       "      <td>NaN</td>\n",
       "      <td>Bankruptcy</td>\n",
       "      <td>NaN</td>\n",
       "      <td>NaN</td>\n",
       "      <td>NaN</td>\n",
       "      <td>AMERICAN EXPRESS COMPANY</td>\n",
       "      <td>ID</td>\n",
       "      <td>83854</td>\n",
       "      <td>Older American</td>\n",
       "      <td>NaN</td>\n",
       "      <td>Web</td>\n",
       "      <td>06-10-2014</td>\n",
       "      <td>Closed with explanation</td>\n",
       "      <td>Yes</td>\n",
       "      <td>Yes</td>\n",
       "      <td>885638</td>\n",
       "    </tr>\n",
       "    <tr>\n",
       "      <th>4</th>\n",
       "      <td>09/13/2014</td>\n",
       "      <td>Debt collection</td>\n",
       "      <td>Credit card</td>\n",
       "      <td>Communication tactics</td>\n",
       "      <td>Frequent or repeated calls</td>\n",
       "      <td>NaN</td>\n",
       "      <td>NaN</td>\n",
       "      <td>CITIBANK, N.A.</td>\n",
       "      <td>VA</td>\n",
       "      <td>23233</td>\n",
       "      <td>NaN</td>\n",
       "      <td>NaN</td>\n",
       "      <td>Web</td>\n",
       "      <td>09/13/2014</td>\n",
       "      <td>Closed with explanation</td>\n",
       "      <td>Yes</td>\n",
       "      <td>Yes</td>\n",
       "      <td>1027760</td>\n",
       "    </tr>\n",
       "    <tr>\n",
       "      <th>...</th>\n",
       "      <td>...</td>\n",
       "      <td>...</td>\n",
       "      <td>...</td>\n",
       "      <td>...</td>\n",
       "      <td>...</td>\n",
       "      <td>...</td>\n",
       "      <td>...</td>\n",
       "      <td>...</td>\n",
       "      <td>...</td>\n",
       "      <td>...</td>\n",
       "      <td>...</td>\n",
       "      <td>...</td>\n",
       "      <td>...</td>\n",
       "      <td>...</td>\n",
       "      <td>...</td>\n",
       "      <td>...</td>\n",
       "      <td>...</td>\n",
       "      <td>...</td>\n",
       "    </tr>\n",
       "    <tr>\n",
       "      <th>195</th>\n",
       "      <td>01-03-2013</td>\n",
       "      <td>Mortgage</td>\n",
       "      <td>Conventional fixed mortgage</td>\n",
       "      <td>Loan modification,collection,foreclosure</td>\n",
       "      <td>NaN</td>\n",
       "      <td>NaN</td>\n",
       "      <td>NaN</td>\n",
       "      <td>NATIONSTAR MORTGAGE</td>\n",
       "      <td>NC</td>\n",
       "      <td>28205</td>\n",
       "      <td>NaN</td>\n",
       "      <td>NaN</td>\n",
       "      <td>Web</td>\n",
       "      <td>01-07-2013</td>\n",
       "      <td>Closed with explanation</td>\n",
       "      <td>Yes</td>\n",
       "      <td>Yes</td>\n",
       "      <td>221633</td>\n",
       "    </tr>\n",
       "    <tr>\n",
       "      <th>196</th>\n",
       "      <td>01-07-2014</td>\n",
       "      <td>Bank account or service</td>\n",
       "      <td>Checking account</td>\n",
       "      <td>Account opening, closing, or management</td>\n",
       "      <td>NaN</td>\n",
       "      <td>NaN</td>\n",
       "      <td>NaN</td>\n",
       "      <td>CITIZENS FINANCIAL GROUP, INC.</td>\n",
       "      <td>MI</td>\n",
       "      <td>48363</td>\n",
       "      <td>NaN</td>\n",
       "      <td>NaN</td>\n",
       "      <td>Web</td>\n",
       "      <td>01-07-2014</td>\n",
       "      <td>Closed with explanation</td>\n",
       "      <td>Yes</td>\n",
       "      <td>Yes</td>\n",
       "      <td>658098</td>\n",
       "    </tr>\n",
       "    <tr>\n",
       "      <th>197</th>\n",
       "      <td>05/29/2013</td>\n",
       "      <td>Bank account or service</td>\n",
       "      <td>Checking account</td>\n",
       "      <td>Deposits and withdrawals</td>\n",
       "      <td>NaN</td>\n",
       "      <td>NaN</td>\n",
       "      <td>NaN</td>\n",
       "      <td>WELLS FARGO &amp; COMPANY</td>\n",
       "      <td>CA</td>\n",
       "      <td>94539</td>\n",
       "      <td>NaN</td>\n",
       "      <td>NaN</td>\n",
       "      <td>Phone</td>\n",
       "      <td>05/30/2013</td>\n",
       "      <td>Closed with monetary relief</td>\n",
       "      <td>Yes</td>\n",
       "      <td>No</td>\n",
       "      <td>418678</td>\n",
       "    </tr>\n",
       "    <tr>\n",
       "      <th>198</th>\n",
       "      <td>10/31/2016</td>\n",
       "      <td>Debt collection</td>\n",
       "      <td>Credit card</td>\n",
       "      <td>Cont'd attempts collect debt not owed</td>\n",
       "      <td>Debt was paid</td>\n",
       "      <td>NaN</td>\n",
       "      <td>Company has responded to the consumer and the ...</td>\n",
       "      <td>SYNCHRONY FINANCIAL</td>\n",
       "      <td>CA</td>\n",
       "      <td>91601</td>\n",
       "      <td>Older American</td>\n",
       "      <td>NaN</td>\n",
       "      <td>Phone</td>\n",
       "      <td>10/31/2016</td>\n",
       "      <td>Closed with explanation</td>\n",
       "      <td>Yes</td>\n",
       "      <td>No</td>\n",
       "      <td>2187992</td>\n",
       "    </tr>\n",
       "    <tr>\n",
       "      <th>199</th>\n",
       "      <td>08-05-2016</td>\n",
       "      <td>Payday loan</td>\n",
       "      <td>NaN</td>\n",
       "      <td>Can't stop charges to bank account</td>\n",
       "      <td>NaN</td>\n",
       "      <td>NaN</td>\n",
       "      <td>NaN</td>\n",
       "      <td>Mobiloans, LLC</td>\n",
       "      <td>NV</td>\n",
       "      <td>891XX</td>\n",
       "      <td>NaN</td>\n",
       "      <td>Other</td>\n",
       "      <td>Web</td>\n",
       "      <td>08-09-2016</td>\n",
       "      <td>Untimely response</td>\n",
       "      <td>No</td>\n",
       "      <td>No</td>\n",
       "      <td>2047780</td>\n",
       "    </tr>\n",
       "  </tbody>\n",
       "</table>\n",
       "<p>200 rows × 18 columns</p>\n",
       "</div>"
      ],
      "text/plain": [
       "    Date received                  Product                  Sub-product  \\\n",
       "0      03-12-2014                 Mortgage               Other mortgage   \n",
       "1      10-01-2016         Credit reporting                          NaN   \n",
       "2      10/17/2016            Consumer Loan                 Vehicle loan   \n",
       "3      06-08-2014              Credit card                          NaN   \n",
       "4      09/13/2014          Debt collection                  Credit card   \n",
       "..            ...                      ...                          ...   \n",
       "195    01-03-2013                 Mortgage  Conventional fixed mortgage   \n",
       "196    01-07-2014  Bank account or service             Checking account   \n",
       "197    05/29/2013  Bank account or service             Checking account   \n",
       "198    10/31/2016          Debt collection                  Credit card   \n",
       "199    08-05-2016              Payday loan                          NaN   \n",
       "\n",
       "                                        Issue                   Sub-issue  \\\n",
       "0    Loan modification,collection,foreclosure                         NaN   \n",
       "1      Incorrect information on credit report              Account status   \n",
       "2                  Managing the loan or lease                         NaN   \n",
       "3                                  Bankruptcy                         NaN   \n",
       "4                       Communication tactics  Frequent or repeated calls   \n",
       "..                                        ...                         ...   \n",
       "195  Loan modification,collection,foreclosure                         NaN   \n",
       "196   Account opening, closing, or management                         NaN   \n",
       "197                  Deposits and withdrawals                         NaN   \n",
       "198     Cont'd attempts collect debt not owed               Debt was paid   \n",
       "199        Can't stop charges to bank account                         NaN   \n",
       "\n",
       "                                    Consumer Complaint  \\\n",
       "0                                                  NaN   \n",
       "1    I have outdated information on my credit repor...   \n",
       "2    I purchased a new car on XXXX XXXX. The car de...   \n",
       "3                                                  NaN   \n",
       "4                                                  NaN   \n",
       "..                                                 ...   \n",
       "195                                                NaN   \n",
       "196                                                NaN   \n",
       "197                                                NaN   \n",
       "198                                                NaN   \n",
       "199                                                NaN   \n",
       "\n",
       "                               Company Public Response  \\\n",
       "0                                                  NaN   \n",
       "1    Company has responded to the consumer and the ...   \n",
       "2                                                  NaN   \n",
       "3                                                  NaN   \n",
       "4                                                  NaN   \n",
       "..                                                 ...   \n",
       "195                                                NaN   \n",
       "196                                                NaN   \n",
       "197                                                NaN   \n",
       "198  Company has responded to the consumer and the ...   \n",
       "199                                                NaN   \n",
       "\n",
       "                                    Company State ZIP code            Tags  \\\n",
       "0                      M&T BANK CORPORATION    MI    48382             NaN   \n",
       "1    TRANSUNION INTERMEDIATE HOLDINGS, INC.    AL    352XX             NaN   \n",
       "2            CITIZENS FINANCIAL GROUP, INC.    PA    177XX  Older American   \n",
       "3                  AMERICAN EXPRESS COMPANY    ID    83854  Older American   \n",
       "4                            CITIBANK, N.A.    VA    23233             NaN   \n",
       "..                                      ...   ...      ...             ...   \n",
       "195                     NATIONSTAR MORTGAGE    NC    28205             NaN   \n",
       "196          CITIZENS FINANCIAL GROUP, INC.    MI    48363             NaN   \n",
       "197                   WELLS FARGO & COMPANY    CA    94539             NaN   \n",
       "198                     SYNCHRONY FINANCIAL    CA    91601  Older American   \n",
       "199                          Mobiloans, LLC    NV    891XX             NaN   \n",
       "\n",
       "    Consumer consent provided? Submitted via Date Sent to Company  \\\n",
       "0                          NaN      Referral           03/17/2014   \n",
       "1             Consent provided           Web           10-05-2016   \n",
       "2             Consent provided           Web           10/20/2016   \n",
       "3                          NaN           Web           06-10-2014   \n",
       "4                          NaN           Web           09/13/2014   \n",
       "..                         ...           ...                  ...   \n",
       "195                        NaN           Web           01-07-2013   \n",
       "196                        NaN           Web           01-07-2014   \n",
       "197                        NaN         Phone           05/30/2013   \n",
       "198                        NaN         Phone           10/31/2016   \n",
       "199                      Other           Web           08-09-2016   \n",
       "\n",
       "    Company Response to Consumer Timely response? Consumer disputed?  \\\n",
       "0        Closed with explanation              Yes                 No   \n",
       "1        Closed with explanation              Yes                 No   \n",
       "2        Closed with explanation              Yes                 No   \n",
       "3        Closed with explanation              Yes                Yes   \n",
       "4        Closed with explanation              Yes                Yes   \n",
       "..                           ...              ...                ...   \n",
       "195      Closed with explanation              Yes                Yes   \n",
       "196      Closed with explanation              Yes                Yes   \n",
       "197  Closed with monetary relief              Yes                 No   \n",
       "198      Closed with explanation              Yes                 No   \n",
       "199            Untimely response               No                 No   \n",
       "\n",
       "     Complaint ID  \n",
       "0          759217  \n",
       "1         2141773  \n",
       "2         2163100  \n",
       "3          885638  \n",
       "4         1027760  \n",
       "..            ...  \n",
       "195        221633  \n",
       "196        658098  \n",
       "197        418678  \n",
       "198       2187992  \n",
       "199       2047780  \n",
       "\n",
       "[200 rows x 18 columns]"
      ]
     },
     "execution_count": 15,
     "metadata": {},
     "output_type": "execute_result"
    }
   ],
   "source": [
    "df = complaint_data\n",
    "df.head(200)"
   ]
  },
  {
   "cell_type": "code",
   "execution_count": 16,
   "metadata": {
    "nbpresent": {
     "id": "68b77511-1e0d-442a-b3db-69da12d617bb"
    }
   },
   "outputs": [
    {
     "data": {
      "text/plain": [
       "pandas.core.frame.DataFrame"
      ]
     },
     "execution_count": 16,
     "metadata": {},
     "output_type": "execute_result"
    }
   ],
   "source": [
    "type(df)"
   ]
  },
  {
   "cell_type": "code",
   "execution_count": 17,
   "metadata": {
    "nbpresent": {
     "id": "be3ff2ff-36e4-4d15-b91f-e1ac02175ba8"
    }
   },
   "outputs": [
    {
     "name": "stdout",
     "output_type": "stream",
     "text": [
      "The shape is:  (1025010, 18)\n",
      "Date received                   object\n",
      "Product                         object\n",
      "Sub-product                     object\n",
      "Issue                           object\n",
      "Sub-issue                       object\n",
      "Consumer Complaint              object\n",
      "Company Public Response         object\n",
      "Company                         object\n",
      "State                           object\n",
      "ZIP code                        object\n",
      "Tags                            object\n",
      "Consumer consent provided?      object\n",
      "Submitted via                   object\n",
      "Date Sent to Company            object\n",
      "Company Response to Consumer    object\n",
      "Timely response?                object\n",
      "Consumer disputed?              object\n",
      "Complaint ID                     int64\n",
      "dtype: object\n"
     ]
    }
   ],
   "source": [
    "print(\"The shape is: \",df.shape)\n",
    "print(df.dtypes)"
   ]
  },
  {
   "cell_type": "code",
   "execution_count": 18,
   "metadata": {
    "nbpresent": {
     "id": "ca3ba3c2-6fc0-4d67-bc4d-1f723eb8fdad"
    }
   },
   "outputs": [],
   "source": [
    "df.columns = [  'Date received','Product','Sub_product','issue','sub-issue','consumer_complaint_explanation','Company_response','Company','State','Postal_code','Tags','Consumer_consent_provided','Complaint_Submission_type','Date_sent_to_company','Company_response_to_consumer','Timely_response_yes_no','Consumer disagrees','Complaint ID' ]              "
   ]
  },
  {
   "cell_type": "code",
   "execution_count": 19,
   "metadata": {
    "nbpresent": {
     "id": "f467c10b-6a05-4846-907a-d8690b641419"
    }
   },
   "outputs": [
    {
     "name": "stdout",
     "output_type": "stream",
     "text": [
      "Date received                     object\n",
      "Product                           object\n",
      "Sub_product                       object\n",
      "issue                             object\n",
      "sub-issue                         object\n",
      "consumer_complaint_explanation    object\n",
      "Company_response                  object\n",
      "Company                           object\n",
      "State                             object\n",
      "Postal_code                       object\n",
      "Tags                              object\n",
      "Consumer_consent_provided         object\n",
      "Complaint_Submission_type         object\n",
      "Date_sent_to_company              object\n",
      "Company_response_to_consumer      object\n",
      "Timely_response_yes_no            object\n",
      "Consumer disagrees                object\n",
      "Complaint ID                       int64\n",
      "dtype: object\n"
     ]
    }
   ],
   "source": [
    "print(df.dtypes)"
   ]
  },
  {
   "cell_type": "code",
   "execution_count": 20,
   "metadata": {
    "nbpresent": {
     "id": "bf2f14b7-ef08-4979-b99d-1d5bcc3f90e6"
    }
   },
   "outputs": [
    {
     "data": {
      "text/html": [
       "<div>\n",
       "<style scoped>\n",
       "    .dataframe tbody tr th:only-of-type {\n",
       "        vertical-align: middle;\n",
       "    }\n",
       "\n",
       "    .dataframe tbody tr th {\n",
       "        vertical-align: top;\n",
       "    }\n",
       "\n",
       "    .dataframe thead th {\n",
       "        text-align: right;\n",
       "    }\n",
       "</style>\n",
       "<table border=\"1\" class=\"dataframe\">\n",
       "  <thead>\n",
       "    <tr style=\"text-align: right;\">\n",
       "      <th></th>\n",
       "      <th>Date received</th>\n",
       "      <th>Product</th>\n",
       "      <th>Sub_product</th>\n",
       "      <th>issue</th>\n",
       "      <th>sub-issue</th>\n",
       "      <th>consumer_complaint_explanation</th>\n",
       "      <th>Company_response</th>\n",
       "      <th>Company</th>\n",
       "      <th>State</th>\n",
       "      <th>Postal_code</th>\n",
       "      <th>Tags</th>\n",
       "      <th>Consumer_consent_provided</th>\n",
       "      <th>Complaint_Submission_type</th>\n",
       "      <th>Date_sent_to_company</th>\n",
       "      <th>Company_response_to_consumer</th>\n",
       "      <th>Timely_response_yes_no</th>\n",
       "      <th>Consumer disagrees</th>\n",
       "      <th>Complaint ID</th>\n",
       "    </tr>\n",
       "  </thead>\n",
       "  <tbody>\n",
       "    <tr>\n",
       "      <th>0</th>\n",
       "      <td>03-12-2014</td>\n",
       "      <td>Mortgage</td>\n",
       "      <td>Other mortgage</td>\n",
       "      <td>Loan modification,collection,foreclosure</td>\n",
       "      <td>NaN</td>\n",
       "      <td>NaN</td>\n",
       "      <td>NaN</td>\n",
       "      <td>M&amp;T BANK CORPORATION</td>\n",
       "      <td>MI</td>\n",
       "      <td>48382</td>\n",
       "      <td>NaN</td>\n",
       "      <td>NaN</td>\n",
       "      <td>Referral</td>\n",
       "      <td>03/17/2014</td>\n",
       "      <td>Closed with explanation</td>\n",
       "      <td>Yes</td>\n",
       "      <td>No</td>\n",
       "      <td>759217</td>\n",
       "    </tr>\n",
       "    <tr>\n",
       "      <th>1</th>\n",
       "      <td>10-01-2016</td>\n",
       "      <td>Credit reporting</td>\n",
       "      <td>NaN</td>\n",
       "      <td>Incorrect information on credit report</td>\n",
       "      <td>Account status</td>\n",
       "      <td>I have outdated information on my credit repor...</td>\n",
       "      <td>Company has responded to the consumer and the ...</td>\n",
       "      <td>TRANSUNION INTERMEDIATE HOLDINGS, INC.</td>\n",
       "      <td>AL</td>\n",
       "      <td>352XX</td>\n",
       "      <td>NaN</td>\n",
       "      <td>Consent provided</td>\n",
       "      <td>Web</td>\n",
       "      <td>10-05-2016</td>\n",
       "      <td>Closed with explanation</td>\n",
       "      <td>Yes</td>\n",
       "      <td>No</td>\n",
       "      <td>2141773</td>\n",
       "    </tr>\n",
       "  </tbody>\n",
       "</table>\n",
       "</div>"
      ],
      "text/plain": [
       "  Date received           Product     Sub_product  \\\n",
       "0    03-12-2014          Mortgage  Other mortgage   \n",
       "1    10-01-2016  Credit reporting             NaN   \n",
       "\n",
       "                                      issue       sub-issue  \\\n",
       "0  Loan modification,collection,foreclosure             NaN   \n",
       "1    Incorrect information on credit report  Account status   \n",
       "\n",
       "                      consumer_complaint_explanation  \\\n",
       "0                                                NaN   \n",
       "1  I have outdated information on my credit repor...   \n",
       "\n",
       "                                    Company_response  \\\n",
       "0                                                NaN   \n",
       "1  Company has responded to the consumer and the ...   \n",
       "\n",
       "                                  Company State Postal_code Tags  \\\n",
       "0                    M&T BANK CORPORATION    MI       48382  NaN   \n",
       "1  TRANSUNION INTERMEDIATE HOLDINGS, INC.    AL       352XX  NaN   \n",
       "\n",
       "  Consumer_consent_provided Complaint_Submission_type Date_sent_to_company  \\\n",
       "0                       NaN                  Referral           03/17/2014   \n",
       "1          Consent provided                       Web           10-05-2016   \n",
       "\n",
       "  Company_response_to_consumer Timely_response_yes_no Consumer disagrees  \\\n",
       "0      Closed with explanation                    Yes                 No   \n",
       "1      Closed with explanation                    Yes                 No   \n",
       "\n",
       "   Complaint ID  \n",
       "0        759217  \n",
       "1       2141773  "
      ]
     },
     "execution_count": 20,
     "metadata": {},
     "output_type": "execute_result"
    }
   ],
   "source": [
    "df.head(2)"
   ]
  },
  {
   "cell_type": "code",
   "execution_count": 21,
   "metadata": {
    "nbpresent": {
     "id": "b40fc1de-8d5a-4189-afa0-75eb56df35bd"
    }
   },
   "outputs": [],
   "source": [
    "df.to_csv('usconsumercomplaints.csv')"
   ]
  },
  {
   "cell_type": "markdown",
   "metadata": {
    "nbpresent": {
     "id": "88380a6d-54c1-4b3e-80de-eaaae0206fc8"
    }
   },
   "source": [
    "### new dataset "
   ]
  },
  {
   "cell_type": "code",
   "execution_count": 29,
   "metadata": {
    "nbpresent": {
     "id": "e896b752-6b1e-4b81-a47f-9a9e77e8f6ce"
    }
   },
   "outputs": [
    {
     "data": {
      "text/plain": [
       "array([[0, '03-12-2014', 'Mortgage', ..., 'Yes', 'No', 759217],\n",
       "       [1, '10-01-2016', 'Credit reporting', ..., 'Yes', 'No', 2141773],\n",
       "       [2, '10/17/2016', 'Consumer Loan', ..., 'Yes', 'No', 2163100],\n",
       "       ...,\n",
       "       [1025007, '01-04-2017', 'Mortgage', ..., 'Yes', 'No', 2274241],\n",
       "       [1025008, '09/28/2015', 'Debt collection', ..., 'Yes', 'No',\n",
       "        1582525],\n",
       "       [1025009, '08/19/2016', 'Debt collection', ..., 'Yes', 'Yes',\n",
       "        2073214]], dtype=object)"
      ]
     },
     "execution_count": 29,
     "metadata": {},
     "output_type": "execute_result"
    }
   ],
   "source": [
    "complaint_data=pd.read_csv('usconsumercomplaints.csv', sep=',',header='infer',index_col=14,parse_dates=True, dayfirst = True, engine=\"python\")\n",
    "complaint_data.values"
   ]
  },
  {
   "cell_type": "code",
   "execution_count": 30,
   "metadata": {
    "nbpresent": {
     "id": "d2b97c4a-22e5-4ad5-91a4-e9d5357f4f5a"
    }
   },
   "outputs": [
    {
     "data": {
      "text/html": [
       "<div>\n",
       "<style scoped>\n",
       "    .dataframe tbody tr th:only-of-type {\n",
       "        vertical-align: middle;\n",
       "    }\n",
       "\n",
       "    .dataframe tbody tr th {\n",
       "        vertical-align: top;\n",
       "    }\n",
       "\n",
       "    .dataframe thead th {\n",
       "        text-align: right;\n",
       "    }\n",
       "</style>\n",
       "<table border=\"1\" class=\"dataframe\">\n",
       "  <thead>\n",
       "    <tr style=\"text-align: right;\">\n",
       "      <th></th>\n",
       "      <th>Unnamed: 0</th>\n",
       "      <th>Date received</th>\n",
       "      <th>Product</th>\n",
       "      <th>Sub_product</th>\n",
       "      <th>issue</th>\n",
       "      <th>sub-issue</th>\n",
       "      <th>consumer_complaint_explanation</th>\n",
       "      <th>Company_response</th>\n",
       "      <th>Company</th>\n",
       "      <th>State</th>\n",
       "      <th>Postal_code</th>\n",
       "      <th>Tags</th>\n",
       "      <th>Consumer_consent_provided</th>\n",
       "      <th>Complaint_Submission_type</th>\n",
       "      <th>Company_response_to_consumer</th>\n",
       "      <th>Timely_response_yes_no</th>\n",
       "      <th>Consumer disagrees</th>\n",
       "      <th>Complaint ID</th>\n",
       "    </tr>\n",
       "    <tr>\n",
       "      <th>Date_sent_to_company</th>\n",
       "      <th></th>\n",
       "      <th></th>\n",
       "      <th></th>\n",
       "      <th></th>\n",
       "      <th></th>\n",
       "      <th></th>\n",
       "      <th></th>\n",
       "      <th></th>\n",
       "      <th></th>\n",
       "      <th></th>\n",
       "      <th></th>\n",
       "      <th></th>\n",
       "      <th></th>\n",
       "      <th></th>\n",
       "      <th></th>\n",
       "      <th></th>\n",
       "      <th></th>\n",
       "      <th></th>\n",
       "    </tr>\n",
       "  </thead>\n",
       "  <tbody>\n",
       "    <tr>\n",
       "      <th>2014-03-17</th>\n",
       "      <td>0</td>\n",
       "      <td>03-12-2014</td>\n",
       "      <td>Mortgage</td>\n",
       "      <td>Other mortgage</td>\n",
       "      <td>Loan modification,collection,foreclosure</td>\n",
       "      <td>NaN</td>\n",
       "      <td>NaN</td>\n",
       "      <td>NaN</td>\n",
       "      <td>M&amp;T BANK CORPORATION</td>\n",
       "      <td>MI</td>\n",
       "      <td>48382</td>\n",
       "      <td>NaN</td>\n",
       "      <td>NaN</td>\n",
       "      <td>Referral</td>\n",
       "      <td>Closed with explanation</td>\n",
       "      <td>Yes</td>\n",
       "      <td>No</td>\n",
       "      <td>759217</td>\n",
       "    </tr>\n",
       "  </tbody>\n",
       "</table>\n",
       "</div>"
      ],
      "text/plain": [
       "                      Unnamed: 0 Date received   Product     Sub_product  \\\n",
       "Date_sent_to_company                                                       \n",
       "2014-03-17                     0    03-12-2014  Mortgage  Other mortgage   \n",
       "\n",
       "                                                         issue sub-issue  \\\n",
       "Date_sent_to_company                                                       \n",
       "2014-03-17            Loan modification,collection,foreclosure       NaN   \n",
       "\n",
       "                     consumer_complaint_explanation Company_response  \\\n",
       "Date_sent_to_company                                                   \n",
       "2014-03-17                                      NaN              NaN   \n",
       "\n",
       "                                   Company State Postal_code Tags  \\\n",
       "Date_sent_to_company                                                \n",
       "2014-03-17            M&T BANK CORPORATION    MI       48382  NaN   \n",
       "\n",
       "                     Consumer_consent_provided Complaint_Submission_type  \\\n",
       "Date_sent_to_company                                                       \n",
       "2014-03-17                                 NaN                  Referral   \n",
       "\n",
       "                     Company_response_to_consumer Timely_response_yes_no  \\\n",
       "Date_sent_to_company                                                       \n",
       "2014-03-17                Closed with explanation                    Yes   \n",
       "\n",
       "                     Consumer disagrees  Complaint ID  \n",
       "Date_sent_to_company                                   \n",
       "2014-03-17                           No        759217  "
      ]
     },
     "execution_count": 30,
     "metadata": {},
     "output_type": "execute_result"
    }
   ],
   "source": [
    "df = complaint_data\n",
    "df.head(1)"
   ]
  },
  {
   "cell_type": "code",
   "execution_count": 31,
   "metadata": {
    "nbpresent": {
     "id": "0960931f-2730-4ff5-a7fc-6dbbcc8fe95c"
    }
   },
   "outputs": [],
   "source": [
    "variableToDrop = ['Tags', 'Unnamed: 0','Complaint ID']\n",
    "df = df.drop(variableToDrop,1).dropna(subset=['Postal_code'])\n"
   ]
  },
  {
   "cell_type": "code",
   "execution_count": 32,
   "metadata": {
    "nbpresent": {
     "id": "f2e7d736-d986-4ab1-b6a1-c2dbfff2bc52"
    }
   },
   "outputs": [
    {
     "name": "stdout",
     "output_type": "stream",
     "text": [
      "Date received                     object\n",
      "Product                           object\n",
      "Sub_product                       object\n",
      "issue                             object\n",
      "sub-issue                         object\n",
      "consumer_complaint_explanation    object\n",
      "Company_response                  object\n",
      "Company                           object\n",
      "State                             object\n",
      "Postal_code                       object\n",
      "Consumer_consent_provided         object\n",
      "Complaint_Submission_type         object\n",
      "Company_response_to_consumer      object\n",
      "Timely_response_yes_no            object\n",
      "Consumer disagrees                object\n",
      "dtype: object\n"
     ]
    }
   ],
   "source": [
    "print(df.dtypes)"
   ]
  },
  {
   "cell_type": "code",
   "execution_count": 36,
   "metadata": {
    "nbpresent": {
     "id": "244f9dfe-52d1-4a47-b313-277dd02a56e9"
    }
   },
   "outputs": [],
   "source": [
    "# df.index= pd.to_datetime(dayfirst=True)\n",
    "df.index = pd.to_datetime(df.index)"
   ]
  },
  {
   "cell_type": "code",
   "execution_count": 37,
   "metadata": {
    "nbpresent": {
     "id": "1cea396e-6c55-4f0b-af36-51acb9a92724"
    }
   },
   "outputs": [
    {
     "name": "stdout",
     "output_type": "stream",
     "text": [
      "Date received                     object\n",
      "Product                           object\n",
      "Sub_product                       object\n",
      "issue                             object\n",
      "sub-issue                         object\n",
      "consumer_complaint_explanation    object\n",
      "Company_response                  object\n",
      "Company                           object\n",
      "State                             object\n",
      "Postal_code                       object\n",
      "Consumer_consent_provided         object\n",
      "Complaint_Submission_type         object\n",
      "Company_response_to_consumer      object\n",
      "Timely_response_yes_no            object\n",
      "Consumer disagrees                object\n",
      "dtype: object\n"
     ]
    }
   ],
   "source": [
    "print(df.dtypes)"
   ]
  },
  {
   "cell_type": "markdown",
   "metadata": {
    "nbpresent": {
     "id": "c10ddbea-ca51-42a8-a3fc-58171286c203"
    }
   },
   "source": [
    "## Product "
   ]
  },
  {
   "cell_type": "code",
   "execution_count": 38,
   "metadata": {
    "nbpresent": {
     "id": "85aa1139-3815-4394-bb1b-3095e8ce5f92"
    }
   },
   "outputs": [
    {
     "data": {
      "text/plain": [
       "count      1008292\n",
       "unique          18\n",
       "top       Mortgage\n",
       "freq        250745\n",
       "Name: Product, dtype: object"
      ]
     },
     "execution_count": 38,
     "metadata": {},
     "output_type": "execute_result"
    }
   ],
   "source": [
    "df[\"Product\"].describe()"
   ]
  },
  {
   "cell_type": "code",
   "execution_count": 39,
   "metadata": {
    "nbpresent": {
     "id": "6e3f5d1f-cd0d-4906-87f4-eeb71787f4ae"
    }
   },
   "outputs": [
    {
     "data": {
      "text/html": [
       "<div>\n",
       "<style scoped>\n",
       "    .dataframe tbody tr th:only-of-type {\n",
       "        vertical-align: middle;\n",
       "    }\n",
       "\n",
       "    .dataframe tbody tr th {\n",
       "        vertical-align: top;\n",
       "    }\n",
       "\n",
       "    .dataframe thead th {\n",
       "        text-align: right;\n",
       "    }\n",
       "</style>\n",
       "<table border=\"1\" class=\"dataframe\">\n",
       "  <thead>\n",
       "    <tr style=\"text-align: right;\">\n",
       "      <th>col_0</th>\n",
       "      <th>count_product</th>\n",
       "    </tr>\n",
       "    <tr>\n",
       "      <th>Product</th>\n",
       "      <th></th>\n",
       "    </tr>\n",
       "  </thead>\n",
       "  <tbody>\n",
       "    <tr>\n",
       "      <th>Bank account or service</th>\n",
       "      <td>84285</td>\n",
       "    </tr>\n",
       "    <tr>\n",
       "      <th>Checking or savings account</th>\n",
       "      <td>17825</td>\n",
       "    </tr>\n",
       "    <tr>\n",
       "      <th>Consumer Loan</th>\n",
       "      <td>31253</td>\n",
       "    </tr>\n",
       "    <tr>\n",
       "      <th>Credit card</th>\n",
       "      <td>88088</td>\n",
       "    </tr>\n",
       "    <tr>\n",
       "      <th>Credit card or prepaid card</th>\n",
       "      <td>22087</td>\n",
       "    </tr>\n",
       "    <tr>\n",
       "      <th>Credit reporting</th>\n",
       "      <td>139288</td>\n",
       "    </tr>\n",
       "    <tr>\n",
       "      <th>Credit reporting, credit repair services, or other personal consumer reports</th>\n",
       "      <td>108733</td>\n",
       "    </tr>\n",
       "    <tr>\n",
       "      <th>Debt collection</th>\n",
       "      <td>193564</td>\n",
       "    </tr>\n",
       "    <tr>\n",
       "      <th>Money transfer, virtual currency, or money service</th>\n",
       "      <td>4972</td>\n",
       "    </tr>\n",
       "    <tr>\n",
       "      <th>Money transfers</th>\n",
       "      <td>5130</td>\n",
       "    </tr>\n",
       "    <tr>\n",
       "      <th>Mortgage</th>\n",
       "      <td>250745</td>\n",
       "    </tr>\n",
       "    <tr>\n",
       "      <th>Other financial service</th>\n",
       "      <td>1039</td>\n",
       "    </tr>\n",
       "    <tr>\n",
       "      <th>Payday loan</th>\n",
       "      <td>5502</td>\n",
       "    </tr>\n",
       "    <tr>\n",
       "      <th>Payday loan, title loan, or personal loan</th>\n",
       "      <td>4187</td>\n",
       "    </tr>\n",
       "    <tr>\n",
       "      <th>Prepaid card</th>\n",
       "      <td>3757</td>\n",
       "    </tr>\n",
       "    <tr>\n",
       "      <th>Student loan</th>\n",
       "      <td>42402</td>\n",
       "    </tr>\n",
       "    <tr>\n",
       "      <th>Vehicle loan or lease</th>\n",
       "      <td>5418</td>\n",
       "    </tr>\n",
       "    <tr>\n",
       "      <th>Virtual currency</th>\n",
       "      <td>17</td>\n",
       "    </tr>\n",
       "  </tbody>\n",
       "</table>\n",
       "</div>"
      ],
      "text/plain": [
       "col_0                                               count_product\n",
       "Product                                                          \n",
       "Bank account or service                                     84285\n",
       "Checking or savings account                                 17825\n",
       "Consumer Loan                                               31253\n",
       "Credit card                                                 88088\n",
       "Credit card or prepaid card                                 22087\n",
       "Credit reporting                                           139288\n",
       "Credit reporting, credit repair services, or ot...         108733\n",
       "Debt collection                                            193564\n",
       "Money transfer, virtual currency, or money service           4972\n",
       "Money transfers                                              5130\n",
       "Mortgage                                                   250745\n",
       "Other financial service                                      1039\n",
       "Payday loan                                                  5502\n",
       "Payday loan, title loan, or personal loan                    4187\n",
       "Prepaid card                                                 3757\n",
       "Student loan                                                42402\n",
       "Vehicle loan or lease                                        5418\n",
       "Virtual currency                                               17"
      ]
     },
     "execution_count": 39,
     "metadata": {},
     "output_type": "execute_result"
    }
   ],
   "source": [
    "Product_tab = pd.crosstab(index=df.Product, columns=\"count_product\")\n",
    "Product_tab "
   ]
  },
  {
   "cell_type": "code",
   "execution_count": 40,
   "metadata": {
    "nbpresent": {
     "id": "6498af0b-6d15-4157-87f3-bd1a7ed148d0"
    }
   },
   "outputs": [
    {
     "data": {
      "text/html": [
       "<div>\n",
       "<style scoped>\n",
       "    .dataframe tbody tr th:only-of-type {\n",
       "        vertical-align: middle;\n",
       "    }\n",
       "\n",
       "    .dataframe tbody tr th {\n",
       "        vertical-align: top;\n",
       "    }\n",
       "\n",
       "    .dataframe thead th {\n",
       "        text-align: right;\n",
       "    }\n",
       "</style>\n",
       "<table border=\"1\" class=\"dataframe\">\n",
       "  <thead>\n",
       "    <tr style=\"text-align: right;\">\n",
       "      <th>col_0</th>\n",
       "      <th>count_product</th>\n",
       "    </tr>\n",
       "  </thead>\n",
       "  <tbody>\n",
       "    <tr>\n",
       "      <th>count</th>\n",
       "      <td>18.000000</td>\n",
       "    </tr>\n",
       "    <tr>\n",
       "      <th>mean</th>\n",
       "      <td>56016.222222</td>\n",
       "    </tr>\n",
       "    <tr>\n",
       "      <th>std</th>\n",
       "      <td>74229.561906</td>\n",
       "    </tr>\n",
       "    <tr>\n",
       "      <th>min</th>\n",
       "      <td>17.000000</td>\n",
       "    </tr>\n",
       "    <tr>\n",
       "      <th>25%</th>\n",
       "      <td>5011.500000</td>\n",
       "    </tr>\n",
       "    <tr>\n",
       "      <th>50%</th>\n",
       "      <td>19956.000000</td>\n",
       "    </tr>\n",
       "    <tr>\n",
       "      <th>75%</th>\n",
       "      <td>87137.250000</td>\n",
       "    </tr>\n",
       "    <tr>\n",
       "      <th>max</th>\n",
       "      <td>250745.000000</td>\n",
       "    </tr>\n",
       "  </tbody>\n",
       "</table>\n",
       "</div>"
      ],
      "text/plain": [
       "col_0  count_product\n",
       "count      18.000000\n",
       "mean    56016.222222\n",
       "std     74229.561906\n",
       "min        17.000000\n",
       "25%      5011.500000\n",
       "50%     19956.000000\n",
       "75%     87137.250000\n",
       "max    250745.000000"
      ]
     },
     "execution_count": 40,
     "metadata": {},
     "output_type": "execute_result"
    }
   ],
   "source": [
    "Product_tab.describe()"
   ]
  },
  {
   "cell_type": "code",
   "execution_count": 41,
   "metadata": {
    "nbpresent": {
     "id": "85b981f4-fe99-4c35-944b-340ec6adf447"
    }
   },
   "outputs": [
    {
     "data": {
      "image/png": "[encoded data removed]",
      "text/plain": [
       "<Figure size 432x288 with 1 Axes>"
      ]
     },
     "metadata": {},
     "output_type": "display_data"
    }
   ],
   "source": [
    "bar = df.Product.value_counts().plot(kind='bar', color=['darkturquoise'], label='Product')\n",
    "plt.title('Product complaint distribution', y=1.1)\n",
    "plt.ylabel('Frequency')\n",
    "plt.xlabel('Product complained about')\n",
    "plt.show()\n",
    "#plt.savefig('product complaints.png', bbox_inches='tight')"
   ]
  },
  {
   "cell_type": "code",
   "execution_count": 42,
   "metadata": {
    "nbpresent": {
     "id": "13475feb-e407-468e-a048-d33602317653"
    }
   },
   "outputs": [
    {
     "data": {
      "image/png": "[encoded data removed]",
      "text/plain": [
       "<Figure size 432x288 with 1 Axes>"
      ]
     },
     "metadata": {},
     "output_type": "display_data"
    }
   ],
   "source": [
    "barlist = df.Product.value_counts().plot(kind='bar',logy=True, color=['turquoise'], label='Product')\n",
    "plt.title('Product complaint distribution(log)', y=1.1)\n",
    "plt.ylabel('Frequency')\n",
    "plt.xlabel('Product complained about')\n",
    "plt.show()\n",
    "#plt.savefig('product complaints log.png', bbox_inches='tight')\n"
   ]
  },
  {
   "cell_type": "code",
   "execution_count": 43,
   "metadata": {
    "nbpresent": {
     "id": "b79a6a1a-cd32-4f21-940c-4308ff6437f7"
    }
   },
   "outputs": [
    {
     "data": {
      "text/html": [
       "<div>\n",
       "<style scoped>\n",
       "    .dataframe tbody tr th:only-of-type {\n",
       "        vertical-align: middle;\n",
       "    }\n",
       "\n",
       "    .dataframe tbody tr th {\n",
       "        vertical-align: top;\n",
       "    }\n",
       "\n",
       "    .dataframe thead th {\n",
       "        text-align: right;\n",
       "    }\n",
       "</style>\n",
       "<table border=\"1\" class=\"dataframe\">\n",
       "  <thead>\n",
       "    <tr style=\"text-align: right;\">\n",
       "      <th></th>\n",
       "      <th>State</th>\n",
       "      <th>Mortgage</th>\n",
       "    </tr>\n",
       "    <tr>\n",
       "      <th>Date_sent_to_company</th>\n",
       "      <th></th>\n",
       "      <th></th>\n",
       "    </tr>\n",
       "  </thead>\n",
       "  <tbody>\n",
       "    <tr>\n",
       "      <th>2014-03-17</th>\n",
       "      <td>MI</td>\n",
       "      <td>1</td>\n",
       "    </tr>\n",
       "    <tr>\n",
       "      <th>2016-05-10</th>\n",
       "      <td>AL</td>\n",
       "      <td>0</td>\n",
       "    </tr>\n",
       "    <tr>\n",
       "      <th>2016-10-20</th>\n",
       "      <td>PA</td>\n",
       "      <td>0</td>\n",
       "    </tr>\n",
       "    <tr>\n",
       "      <th>2014-10-06</th>\n",
       "      <td>ID</td>\n",
       "      <td>0</td>\n",
       "    </tr>\n",
       "    <tr>\n",
       "      <th>2014-09-13</th>\n",
       "      <td>VA</td>\n",
       "      <td>0</td>\n",
       "    </tr>\n",
       "  </tbody>\n",
       "</table>\n",
       "</div>"
      ],
      "text/plain": [
       "                     State  Mortgage\n",
       "Date_sent_to_company                \n",
       "2014-03-17              MI         1\n",
       "2016-05-10              AL         0\n",
       "2016-10-20              PA         0\n",
       "2014-10-06              ID         0\n",
       "2014-09-13              VA         0"
      ]
     },
     "execution_count": 43,
     "metadata": {},
     "output_type": "execute_result"
    }
   ],
   "source": [
    "df_mapping = df.loc[:,('State','Product')]\n",
    "\n",
    "df_mapping[\"Mortgage\"]= df_mapping.Product.str.contains(\"Mortgage\")\n",
    "\n",
    "df_mapping.Mortgage = df_mapping.Mortgage.astype(int)\n",
    "\n",
    "df_mapping = df_mapping.loc[:,(\"State\",\"Mortgage\")]\n",
    "\n",
    "df_mapping.head()\n",
    "\n",
    "#df_mortagage = df.Product=\"Mortgage\"\n",
    "#df_mortagage\n"
   ]
  },
  {
   "cell_type": "code",
   "execution_count": 44,
   "metadata": {
    "nbpresent": {
     "id": "6e008534-e858-4021-8675-27c0d83f1a55"
    }
   },
   "outputs": [
    {
     "data": {
      "text/html": [
       "<div>\n",
       "<style scoped>\n",
       "    .dataframe tbody tr th:only-of-type {\n",
       "        vertical-align: middle;\n",
       "    }\n",
       "\n",
       "    .dataframe tbody tr th {\n",
       "        vertical-align: top;\n",
       "    }\n",
       "\n",
       "    .dataframe thead th {\n",
       "        text-align: right;\n",
       "    }\n",
       "</style>\n",
       "<table border=\"1\" class=\"dataframe\">\n",
       "  <thead>\n",
       "    <tr style=\"text-align: right;\">\n",
       "      <th></th>\n",
       "      <th>Mortgage</th>\n",
       "    </tr>\n",
       "  </thead>\n",
       "  <tbody>\n",
       "    <tr>\n",
       "      <th>count</th>\n",
       "      <td>1.008292e+06</td>\n",
       "    </tr>\n",
       "    <tr>\n",
       "      <th>mean</th>\n",
       "      <td>2.486829e-01</td>\n",
       "    </tr>\n",
       "    <tr>\n",
       "      <th>std</th>\n",
       "      <td>4.322498e-01</td>\n",
       "    </tr>\n",
       "    <tr>\n",
       "      <th>min</th>\n",
       "      <td>0.000000e+00</td>\n",
       "    </tr>\n",
       "    <tr>\n",
       "      <th>25%</th>\n",
       "      <td>0.000000e+00</td>\n",
       "    </tr>\n",
       "    <tr>\n",
       "      <th>50%</th>\n",
       "      <td>0.000000e+00</td>\n",
       "    </tr>\n",
       "    <tr>\n",
       "      <th>75%</th>\n",
       "      <td>0.000000e+00</td>\n",
       "    </tr>\n",
       "    <tr>\n",
       "      <th>max</th>\n",
       "      <td>1.000000e+00</td>\n",
       "    </tr>\n",
       "  </tbody>\n",
       "</table>\n",
       "</div>"
      ],
      "text/plain": [
       "           Mortgage\n",
       "count  1.008292e+06\n",
       "mean   2.486829e-01\n",
       "std    4.322498e-01\n",
       "min    0.000000e+00\n",
       "25%    0.000000e+00\n",
       "50%    0.000000e+00\n",
       "75%    0.000000e+00\n",
       "max    1.000000e+00"
      ]
     },
     "execution_count": 44,
     "metadata": {},
     "output_type": "execute_result"
    }
   ],
   "source": [
    "df_mapping.describe()"
   ]
  },
  {
   "cell_type": "code",
   "execution_count": 46,
   "metadata": {
    "nbpresent": {
     "id": "1831880c-202b-45ec-9c16-fcecb92d336b"
    }
   },
   "outputs": [],
   "source": [
    "us_states = os.path.join('data', 'us-states.json')\n",
    "\n",
    "geo_json_data = json.load(open(us_states))"
   ]
  },
  {
   "cell_type": "code",
   "execution_count": 50,
   "metadata": {
    "nbpresent": {
     "id": "4a6f295f-11e2-4fd3-984b-d9af53418fae"
    }
   },
   "outputs": [
    {
     "name": "stdout",
     "output_type": "stream",
     "text": [
      "#fee8c8ff\n"
     ]
    }
   ],
   "source": [
    "from branca.colormap import linear\n",
    "\n",
    "colormap = linear.OrRd_03.scale(\n",
    "    df_mapping.Mortgage.value_counts().min(),\n",
    "    df_mapping.Mortgage.value_counts().max())\n",
    "\n",
    "print(colormap(5.0))\n"
   ]
  },
  {
   "cell_type": "code",
   "execution_count": 51,
   "metadata": {
    "nbpresent": {
     "id": "6422b3cd-9451-4133-bd64-bb66aa674b2b"
    }
   },
   "outputs": [
    {
     "data": {
      "text/plain": [
       "State\n",
       "AL    0\n",
       "AL    0\n",
       "AL    0\n",
       "AL    1\n",
       "AL    1\n",
       "Name: Mortgage, dtype: int64"
      ]
     },
     "execution_count": 51,
     "metadata": {},
     "output_type": "execute_result"
    }
   ],
   "source": [
    "mortgage_dict = df_mapping.set_index('State')['Mortgage']\n",
    "\n",
    "mortgage_dict[\"AL\"].head()"
   ]
  },
  {
   "cell_type": "markdown",
   "metadata": {
    "nbpresent": {
     "id": "69dc83c1-e805-44af-a918-691a0d0bcc25"
    }
   },
   "source": [
    "## Subproduct complained about"
   ]
  },
  {
   "cell_type": "code",
   "execution_count": 53,
   "metadata": {
    "nbpresent": {
     "id": "de262432-789e-4050-b061-0ee465266042"
    }
   },
   "outputs": [
    {
     "data": {
      "text/html": [
       "<div>\n",
       "<style scoped>\n",
       "    .dataframe tbody tr th:only-of-type {\n",
       "        vertical-align: middle;\n",
       "    }\n",
       "\n",
       "    .dataframe tbody tr th {\n",
       "        vertical-align: top;\n",
       "    }\n",
       "\n",
       "    .dataframe thead th {\n",
       "        text-align: right;\n",
       "    }\n",
       "</style>\n",
       "<table border=\"1\" class=\"dataframe\">\n",
       "  <thead>\n",
       "    <tr style=\"text-align: right;\">\n",
       "      <th>col_0</th>\n",
       "      <th>count_Subproduct</th>\n",
       "    </tr>\n",
       "    <tr>\n",
       "      <th>Sub_product</th>\n",
       "      <th></th>\n",
       "    </tr>\n",
       "  </thead>\n",
       "  <tbody>\n",
       "    <tr>\n",
       "      <th>(CD) Certificate of deposit</th>\n",
       "      <td>3333</td>\n",
       "    </tr>\n",
       "    <tr>\n",
       "      <th>Auto</th>\n",
       "      <td>3711</td>\n",
       "    </tr>\n",
       "    <tr>\n",
       "      <th>Auto debt</th>\n",
       "      <td>1488</td>\n",
       "    </tr>\n",
       "    <tr>\n",
       "      <th>CD (Certificate of Deposit)</th>\n",
       "      <td>512</td>\n",
       "    </tr>\n",
       "    <tr>\n",
       "      <th>Cashing a check without an account</th>\n",
       "      <td>610</td>\n",
       "    </tr>\n",
       "    <tr>\n",
       "      <th>...</th>\n",
       "      <td>...</td>\n",
       "    </tr>\n",
       "    <tr>\n",
       "      <th>Traveler’s/Cashier’s checks</th>\n",
       "      <td>87</td>\n",
       "    </tr>\n",
       "    <tr>\n",
       "      <th>VA mortgage</th>\n",
       "      <td>6279</td>\n",
       "    </tr>\n",
       "    <tr>\n",
       "      <th>Vehicle lease</th>\n",
       "      <td>2631</td>\n",
       "    </tr>\n",
       "    <tr>\n",
       "      <th>Vehicle loan</th>\n",
       "      <td>17572</td>\n",
       "    </tr>\n",
       "    <tr>\n",
       "      <th>Virtual currency</th>\n",
       "      <td>1416</td>\n",
       "    </tr>\n",
       "  </tbody>\n",
       "</table>\n",
       "<p>75 rows × 1 columns</p>\n",
       "</div>"
      ],
      "text/plain": [
       "col_0                               count_Subproduct\n",
       "Sub_product                                         \n",
       "(CD) Certificate of deposit                     3333\n",
       "Auto                                            3711\n",
       "Auto debt                                       1488\n",
       "CD (Certificate of Deposit)                      512\n",
       "Cashing a check without an account               610\n",
       "...                                              ...\n",
       "Traveler’s/Cashier’s checks                       87\n",
       "VA mortgage                                     6279\n",
       "Vehicle lease                                   2631\n",
       "Vehicle loan                                   17572\n",
       "Virtual currency                                1416\n",
       "\n",
       "[75 rows x 1 columns]"
      ]
     },
     "execution_count": 53,
     "metadata": {},
     "output_type": "execute_result"
    }
   ],
   "source": [
    "Subproduct_tab = pd.crosstab(index=df.Sub_product, columns=\"count_Subproduct\")\n",
    "Subproduct_tab \n",
    "\n"
   ]
  },
  {
   "cell_type": "code",
   "execution_count": 55,
   "metadata": {
    "nbpresent": {
     "id": "3eaaa409-0c04-48ae-9268-10000d646761"
    }
   },
   "outputs": [
    {
     "data": {
      "text/html": [
       "<div>\n",
       "<style scoped>\n",
       "    .dataframe tbody tr th:only-of-type {\n",
       "        vertical-align: middle;\n",
       "    }\n",
       "\n",
       "    .dataframe tbody tr th {\n",
       "        vertical-align: top;\n",
       "    }\n",
       "\n",
       "    .dataframe thead th {\n",
       "        text-align: right;\n",
       "    }\n",
       "</style>\n",
       "<table border=\"1\" class=\"dataframe\">\n",
       "  <thead>\n",
       "    <tr style=\"text-align: right;\">\n",
       "      <th>col_0</th>\n",
       "      <th>count_Subproduct</th>\n",
       "    </tr>\n",
       "  </thead>\n",
       "  <tbody>\n",
       "    <tr>\n",
       "      <th>count</th>\n",
       "      <td>75.000000</td>\n",
       "    </tr>\n",
       "    <tr>\n",
       "      <th>mean</th>\n",
       "      <td>10338.853333</td>\n",
       "    </tr>\n",
       "    <tr>\n",
       "      <th>std</th>\n",
       "      <td>20053.198772</td>\n",
       "    </tr>\n",
       "    <tr>\n",
       "      <th>min</th>\n",
       "      <td>12.000000</td>\n",
       "    </tr>\n",
       "    <tr>\n",
       "      <th>25%</th>\n",
       "      <td>420.500000</td>\n",
       "    </tr>\n",
       "    <tr>\n",
       "      <th>50%</th>\n",
       "      <td>2450.000000</td>\n",
       "    </tr>\n",
       "    <tr>\n",
       "      <th>75%</th>\n",
       "      <td>9641.000000</td>\n",
       "    </tr>\n",
       "    <tr>\n",
       "      <th>max</th>\n",
       "      <td>106485.000000</td>\n",
       "    </tr>\n",
       "  </tbody>\n",
       "</table>\n",
       "</div>"
      ],
      "text/plain": [
       "col_0  count_Subproduct\n",
       "count         75.000000\n",
       "mean       10338.853333\n",
       "std        20053.198772\n",
       "min           12.000000\n",
       "25%          420.500000\n",
       "50%         2450.000000\n",
       "75%         9641.000000\n",
       "max       106485.000000"
      ]
     },
     "execution_count": 55,
     "metadata": {},
     "output_type": "execute_result"
    }
   ],
   "source": [
    "Subproduct_tab.describe()\n"
   ]
  },
  {
   "cell_type": "markdown",
   "metadata": {
    "nbpresent": {
     "id": "96964814-deae-4eab-9eee-5ee6493c3789"
    }
   },
   "source": [
    "## complaints Submission_type"
   ]
  },
  {
   "cell_type": "code",
   "execution_count": 56,
   "metadata": {
    "nbpresent": {
     "id": "e3a23221-ef97-4173-8795-f9b83f953e95"
    }
   },
   "outputs": [
    {
     "data": {
      "text/plain": [
       "count     1008292\n",
       "unique          6\n",
       "top           Web\n",
       "freq       729086\n",
       "Name: Complaint_Submission_type, dtype: object"
      ]
     },
     "execution_count": 56,
     "metadata": {},
     "output_type": "execute_result"
    }
   ],
   "source": [
    "df[\"Complaint_Submission_type\"].describe()"
   ]
  },
  {
   "cell_type": "code",
   "execution_count": 57,
   "metadata": {
    "nbpresent": {
     "id": "290995f6-a18e-481c-b4db-0e16ce177c09"
    }
   },
   "outputs": [
    {
     "data": {
      "text/html": [
       "<div>\n",
       "<style scoped>\n",
       "    .dataframe tbody tr th:only-of-type {\n",
       "        vertical-align: middle;\n",
       "    }\n",
       "\n",
       "    .dataframe tbody tr th {\n",
       "        vertical-align: top;\n",
       "    }\n",
       "\n",
       "    .dataframe thead th {\n",
       "        text-align: right;\n",
       "    }\n",
       "</style>\n",
       "<table border=\"1\" class=\"dataframe\">\n",
       "  <thead>\n",
       "    <tr style=\"text-align: right;\">\n",
       "      <th>col_0</th>\n",
       "      <th>Submission_type</th>\n",
       "    </tr>\n",
       "    <tr>\n",
       "      <th>Complaint_Submission_type</th>\n",
       "      <th></th>\n",
       "    </tr>\n",
       "  </thead>\n",
       "  <tbody>\n",
       "    <tr>\n",
       "      <th>Email</th>\n",
       "      <td>312</td>\n",
       "    </tr>\n",
       "    <tr>\n",
       "      <th>Fax</th>\n",
       "      <td>14650</td>\n",
       "    </tr>\n",
       "    <tr>\n",
       "      <th>Phone</th>\n",
       "      <td>58619</td>\n",
       "    </tr>\n",
       "    <tr>\n",
       "      <th>Postal mail</th>\n",
       "      <td>57950</td>\n",
       "    </tr>\n",
       "    <tr>\n",
       "      <th>Referral</th>\n",
       "      <td>147675</td>\n",
       "    </tr>\n",
       "    <tr>\n",
       "      <th>Web</th>\n",
       "      <td>729086</td>\n",
       "    </tr>\n",
       "  </tbody>\n",
       "</table>\n",
       "</div>"
      ],
      "text/plain": [
       "col_0                      Submission_type\n",
       "Complaint_Submission_type                 \n",
       "Email                                  312\n",
       "Fax                                  14650\n",
       "Phone                                58619\n",
       "Postal mail                          57950\n",
       "Referral                            147675\n",
       "Web                                 729086"
      ]
     },
     "execution_count": 57,
     "metadata": {},
     "output_type": "execute_result"
    }
   ],
   "source": [
    "Submission_type_tab = pd.crosstab(index=df.Complaint_Submission_type, columns=\"Submission_type\")\n",
    "Submission_type_tab\n"
   ]
  },
  {
   "cell_type": "code",
   "execution_count": 58,
   "metadata": {
    "nbpresent": {
     "id": "8f523e84-13d0-4a2c-b579-9899fbcf84d3"
    }
   },
   "outputs": [
    {
     "data": {
      "text/html": [
       "<div>\n",
       "<style scoped>\n",
       "    .dataframe tbody tr th:only-of-type {\n",
       "        vertical-align: middle;\n",
       "    }\n",
       "\n",
       "    .dataframe tbody tr th {\n",
       "        vertical-align: top;\n",
       "    }\n",
       "\n",
       "    .dataframe thead th {\n",
       "        text-align: right;\n",
       "    }\n",
       "</style>\n",
       "<table border=\"1\" class=\"dataframe\">\n",
       "  <thead>\n",
       "    <tr style=\"text-align: right;\">\n",
       "      <th>col_0</th>\n",
       "      <th>Submission_type</th>\n",
       "    </tr>\n",
       "  </thead>\n",
       "  <tbody>\n",
       "    <tr>\n",
       "      <th>count</th>\n",
       "      <td>6.000000</td>\n",
       "    </tr>\n",
       "    <tr>\n",
       "      <th>mean</th>\n",
       "      <td>168048.666667</td>\n",
       "    </tr>\n",
       "    <tr>\n",
       "      <th>std</th>\n",
       "      <td>279621.631608</td>\n",
       "    </tr>\n",
       "    <tr>\n",
       "      <th>min</th>\n",
       "      <td>312.000000</td>\n",
       "    </tr>\n",
       "    <tr>\n",
       "      <th>25%</th>\n",
       "      <td>25475.000000</td>\n",
       "    </tr>\n",
       "    <tr>\n",
       "      <th>50%</th>\n",
       "      <td>58284.500000</td>\n",
       "    </tr>\n",
       "    <tr>\n",
       "      <th>75%</th>\n",
       "      <td>125411.000000</td>\n",
       "    </tr>\n",
       "    <tr>\n",
       "      <th>max</th>\n",
       "      <td>729086.000000</td>\n",
       "    </tr>\n",
       "  </tbody>\n",
       "</table>\n",
       "</div>"
      ],
      "text/plain": [
       "col_0  Submission_type\n",
       "count         6.000000\n",
       "mean     168048.666667\n",
       "std      279621.631608\n",
       "min         312.000000\n",
       "25%       25475.000000\n",
       "50%       58284.500000\n",
       "75%      125411.000000\n",
       "max      729086.000000"
      ]
     },
     "execution_count": 58,
     "metadata": {},
     "output_type": "execute_result"
    }
   ],
   "source": [
    "Submission_type_tab.describe()"
   ]
  },
  {
   "cell_type": "code",
   "execution_count": 59,
   "metadata": {
    "nbpresent": {
     "id": "acca471e-28cb-407d-a294-f9a3d08cee7b"
    }
   },
   "outputs": [
    {
     "data": {
      "text/html": [
       "<div>\n",
       "<style scoped>\n",
       "    .dataframe tbody tr th:only-of-type {\n",
       "        vertical-align: middle;\n",
       "    }\n",
       "\n",
       "    .dataframe tbody tr th {\n",
       "        vertical-align: top;\n",
       "    }\n",
       "\n",
       "    .dataframe thead th {\n",
       "        text-align: right;\n",
       "    }\n",
       "</style>\n",
       "<table border=\"1\" class=\"dataframe\">\n",
       "  <thead>\n",
       "    <tr style=\"text-align: right;\">\n",
       "      <th></th>\n",
       "      <th>Date received</th>\n",
       "      <th>Product</th>\n",
       "      <th>Sub_product</th>\n",
       "      <th>issue</th>\n",
       "      <th>sub-issue</th>\n",
       "      <th>consumer_complaint_explanation</th>\n",
       "      <th>Company_response</th>\n",
       "      <th>Company</th>\n",
       "      <th>State</th>\n",
       "      <th>Postal_code</th>\n",
       "      <th>Consumer_consent_provided</th>\n",
       "      <th>Complaint_Submission_type</th>\n",
       "      <th>Company_response_to_consumer</th>\n",
       "      <th>Timely_response_yes_no</th>\n",
       "      <th>Consumer disagrees</th>\n",
       "    </tr>\n",
       "    <tr>\n",
       "      <th>Date_sent_to_company</th>\n",
       "      <th></th>\n",
       "      <th></th>\n",
       "      <th></th>\n",
       "      <th></th>\n",
       "      <th></th>\n",
       "      <th></th>\n",
       "      <th></th>\n",
       "      <th></th>\n",
       "      <th></th>\n",
       "      <th></th>\n",
       "      <th></th>\n",
       "      <th></th>\n",
       "      <th></th>\n",
       "      <th></th>\n",
       "      <th></th>\n",
       "    </tr>\n",
       "  </thead>\n",
       "  <tbody>\n",
       "    <tr>\n",
       "      <th>2014-03-17</th>\n",
       "      <td>03-12-2014</td>\n",
       "      <td>Mortgage</td>\n",
       "      <td>Other mortgage</td>\n",
       "      <td>Loan modification,collection,foreclosure</td>\n",
       "      <td>NaN</td>\n",
       "      <td>NaN</td>\n",
       "      <td>NaN</td>\n",
       "      <td>M&amp;T BANK CORPORATION</td>\n",
       "      <td>MI</td>\n",
       "      <td>48382</td>\n",
       "      <td>NaN</td>\n",
       "      <td>Referral</td>\n",
       "      <td>Closed with explanation</td>\n",
       "      <td>Yes</td>\n",
       "      <td>No</td>\n",
       "    </tr>\n",
       "    <tr>\n",
       "      <th>2016-05-10</th>\n",
       "      <td>10-01-2016</td>\n",
       "      <td>Credit reporting</td>\n",
       "      <td>NaN</td>\n",
       "      <td>Incorrect information on credit report</td>\n",
       "      <td>Account status</td>\n",
       "      <td>I have outdated information on my credit repor...</td>\n",
       "      <td>Company has responded to the consumer and the ...</td>\n",
       "      <td>TRANSUNION INTERMEDIATE HOLDINGS, INC.</td>\n",
       "      <td>AL</td>\n",
       "      <td>352XX</td>\n",
       "      <td>Consent provided</td>\n",
       "      <td>Web</td>\n",
       "      <td>Closed with explanation</td>\n",
       "      <td>Yes</td>\n",
       "      <td>No</td>\n",
       "    </tr>\n",
       "  </tbody>\n",
       "</table>\n",
       "</div>"
      ],
      "text/plain": [
       "                     Date received           Product     Sub_product  \\\n",
       "Date_sent_to_company                                                   \n",
       "2014-03-17              03-12-2014          Mortgage  Other mortgage   \n",
       "2016-05-10              10-01-2016  Credit reporting             NaN   \n",
       "\n",
       "                                                         issue  \\\n",
       "Date_sent_to_company                                             \n",
       "2014-03-17            Loan modification,collection,foreclosure   \n",
       "2016-05-10              Incorrect information on credit report   \n",
       "\n",
       "                           sub-issue  \\\n",
       "Date_sent_to_company                   \n",
       "2014-03-17                       NaN   \n",
       "2016-05-10            Account status   \n",
       "\n",
       "                                         consumer_complaint_explanation  \\\n",
       "Date_sent_to_company                                                      \n",
       "2014-03-17                                                          NaN   \n",
       "2016-05-10            I have outdated information on my credit repor...   \n",
       "\n",
       "                                                       Company_response  \\\n",
       "Date_sent_to_company                                                      \n",
       "2014-03-17                                                          NaN   \n",
       "2016-05-10            Company has responded to the consumer and the ...   \n",
       "\n",
       "                                                     Company State  \\\n",
       "Date_sent_to_company                                                 \n",
       "2014-03-17                              M&T BANK CORPORATION    MI   \n",
       "2016-05-10            TRANSUNION INTERMEDIATE HOLDINGS, INC.    AL   \n",
       "\n",
       "                     Postal_code Consumer_consent_provided  \\\n",
       "Date_sent_to_company                                         \n",
       "2014-03-17                 48382                       NaN   \n",
       "2016-05-10                 352XX          Consent provided   \n",
       "\n",
       "                     Complaint_Submission_type Company_response_to_consumer  \\\n",
       "Date_sent_to_company                                                          \n",
       "2014-03-17                            Referral      Closed with explanation   \n",
       "2016-05-10                                 Web      Closed with explanation   \n",
       "\n",
       "                     Timely_response_yes_no Consumer disagrees  \n",
       "Date_sent_to_company                                            \n",
       "2014-03-17                              Yes                 No  \n",
       "2016-05-10                              Yes                 No  "
      ]
     },
     "execution_count": 59,
     "metadata": {},
     "output_type": "execute_result"
    }
   ],
   "source": [
    "df1 = df\n",
    "df1.head(2)"
   ]
  },
  {
   "cell_type": "code",
   "execution_count": 60,
   "metadata": {
    "nbpresent": {
     "id": "7ff37b0a-333c-460d-bb5a-2bfd72772863"
    }
   },
   "outputs": [],
   "source": [
    "df1[\"EmailSubmission\"]= df.Complaint_Submission_type.str.contains(\"Email\")\n",
    "df1[\"FaxSubmission\"]= df.Complaint_Submission_type.str.contains(\"Fax\")\n",
    "df1[\"PhoneSubmission\"]= df.Complaint_Submission_type.str.contains(\"Phone\")\n",
    "df1[\"PostalSubmission\"]= df.Complaint_Submission_type.str.contains(\"Postal mail\")\n",
    "df1[\"ReferralSubmission\"]= df.Complaint_Submission_type.str.contains(\"Referral\")\n",
    "df1[\"WebSubmission\"]= df.Complaint_Submission_type.str.contains(\"Web\")\n"
   ]
  },
  {
   "cell_type": "code",
   "execution_count": 61,
   "metadata": {
    "nbpresent": {
     "id": "28838353-5f19-4e0c-8cb0-91666395bb89"
    }
   },
   "outputs": [
    {
     "data": {
      "text/html": [
       "<div>\n",
       "<style scoped>\n",
       "    .dataframe tbody tr th:only-of-type {\n",
       "        vertical-align: middle;\n",
       "    }\n",
       "\n",
       "    .dataframe tbody tr th {\n",
       "        vertical-align: top;\n",
       "    }\n",
       "\n",
       "    .dataframe thead th {\n",
       "        text-align: right;\n",
       "    }\n",
       "</style>\n",
       "<table border=\"1\" class=\"dataframe\">\n",
       "  <thead>\n",
       "    <tr style=\"text-align: right;\">\n",
       "      <th></th>\n",
       "      <th>Date received</th>\n",
       "      <th>Product</th>\n",
       "      <th>Sub_product</th>\n",
       "      <th>issue</th>\n",
       "      <th>sub-issue</th>\n",
       "      <th>consumer_complaint_explanation</th>\n",
       "      <th>Company_response</th>\n",
       "      <th>Company</th>\n",
       "      <th>State</th>\n",
       "      <th>Postal_code</th>\n",
       "      <th>Consumer_consent_provided</th>\n",
       "      <th>Complaint_Submission_type</th>\n",
       "      <th>Company_response_to_consumer</th>\n",
       "      <th>Timely_response_yes_no</th>\n",
       "      <th>Consumer disagrees</th>\n",
       "      <th>EmailSubmission</th>\n",
       "      <th>FaxSubmission</th>\n",
       "      <th>PhoneSubmission</th>\n",
       "      <th>PostalSubmission</th>\n",
       "      <th>ReferralSubmission</th>\n",
       "      <th>WebSubmission</th>\n",
       "    </tr>\n",
       "    <tr>\n",
       "      <th>Date_sent_to_company</th>\n",
       "      <th></th>\n",
       "      <th></th>\n",
       "      <th></th>\n",
       "      <th></th>\n",
       "      <th></th>\n",
       "      <th></th>\n",
       "      <th></th>\n",
       "      <th></th>\n",
       "      <th></th>\n",
       "      <th></th>\n",
       "      <th></th>\n",
       "      <th></th>\n",
       "      <th></th>\n",
       "      <th></th>\n",
       "      <th></th>\n",
       "      <th></th>\n",
       "      <th></th>\n",
       "      <th></th>\n",
       "      <th></th>\n",
       "      <th></th>\n",
       "      <th></th>\n",
       "    </tr>\n",
       "  </thead>\n",
       "  <tbody>\n",
       "    <tr>\n",
       "      <th>2014-03-17</th>\n",
       "      <td>03-12-2014</td>\n",
       "      <td>Mortgage</td>\n",
       "      <td>Other mortgage</td>\n",
       "      <td>Loan modification,collection,foreclosure</td>\n",
       "      <td>NaN</td>\n",
       "      <td>NaN</td>\n",
       "      <td>NaN</td>\n",
       "      <td>M&amp;T BANK CORPORATION</td>\n",
       "      <td>MI</td>\n",
       "      <td>48382</td>\n",
       "      <td>NaN</td>\n",
       "      <td>Referral</td>\n",
       "      <td>Closed with explanation</td>\n",
       "      <td>Yes</td>\n",
       "      <td>No</td>\n",
       "      <td>False</td>\n",
       "      <td>False</td>\n",
       "      <td>False</td>\n",
       "      <td>False</td>\n",
       "      <td>True</td>\n",
       "      <td>False</td>\n",
       "    </tr>\n",
       "  </tbody>\n",
       "</table>\n",
       "</div>"
      ],
      "text/plain": [
       "                     Date received   Product     Sub_product  \\\n",
       "Date_sent_to_company                                           \n",
       "2014-03-17              03-12-2014  Mortgage  Other mortgage   \n",
       "\n",
       "                                                         issue sub-issue  \\\n",
       "Date_sent_to_company                                                       \n",
       "2014-03-17            Loan modification,collection,foreclosure       NaN   \n",
       "\n",
       "                     consumer_complaint_explanation Company_response  \\\n",
       "Date_sent_to_company                                                   \n",
       "2014-03-17                                      NaN              NaN   \n",
       "\n",
       "                                   Company State Postal_code  \\\n",
       "Date_sent_to_company                                           \n",
       "2014-03-17            M&T BANK CORPORATION    MI       48382   \n",
       "\n",
       "                     Consumer_consent_provided Complaint_Submission_type  \\\n",
       "Date_sent_to_company                                                       \n",
       "2014-03-17                                 NaN                  Referral   \n",
       "\n",
       "                     Company_response_to_consumer Timely_response_yes_no  \\\n",
       "Date_sent_to_company                                                       \n",
       "2014-03-17                Closed with explanation                    Yes   \n",
       "\n",
       "                     Consumer disagrees  EmailSubmission  FaxSubmission  \\\n",
       "Date_sent_to_company                                                      \n",
       "2014-03-17                           No            False          False   \n",
       "\n",
       "                      PhoneSubmission  PostalSubmission  ReferralSubmission  \\\n",
       "Date_sent_to_company                                                          \n",
       "2014-03-17                      False             False                True   \n",
       "\n",
       "                      WebSubmission  \n",
       "Date_sent_to_company                 \n",
       "2014-03-17                    False  "
      ]
     },
     "execution_count": 61,
     "metadata": {},
     "output_type": "execute_result"
    }
   ],
   "source": [
    "df1.head(1)"
   ]
  },
  {
   "cell_type": "code",
   "execution_count": 62,
   "metadata": {
    "nbpresent": {
     "id": "c1ad54f2-1590-4416-acbe-be0dcf2bfd6b"
    }
   },
   "outputs": [
    {
     "data": {
      "text/html": [
       "<div>\n",
       "<style scoped>\n",
       "    .dataframe tbody tr th:only-of-type {\n",
       "        vertical-align: middle;\n",
       "    }\n",
       "\n",
       "    .dataframe tbody tr th {\n",
       "        vertical-align: top;\n",
       "    }\n",
       "\n",
       "    .dataframe thead th {\n",
       "        text-align: right;\n",
       "    }\n",
       "</style>\n",
       "<table border=\"1\" class=\"dataframe\">\n",
       "  <thead>\n",
       "    <tr style=\"text-align: right;\">\n",
       "      <th></th>\n",
       "      <th>EmailSubmission</th>\n",
       "      <th>FaxSubmission</th>\n",
       "      <th>PhoneSubmission</th>\n",
       "      <th>PostalSubmission</th>\n",
       "      <th>ReferralSubmission</th>\n",
       "      <th>WebSubmission</th>\n",
       "    </tr>\n",
       "    <tr>\n",
       "      <th>Date_sent_to_company</th>\n",
       "      <th></th>\n",
       "      <th></th>\n",
       "      <th></th>\n",
       "      <th></th>\n",
       "      <th></th>\n",
       "      <th></th>\n",
       "    </tr>\n",
       "  </thead>\n",
       "  <tbody>\n",
       "    <tr>\n",
       "      <th>2014-03-17</th>\n",
       "      <td>False</td>\n",
       "      <td>False</td>\n",
       "      <td>False</td>\n",
       "      <td>False</td>\n",
       "      <td>True</td>\n",
       "      <td>False</td>\n",
       "    </tr>\n",
       "    <tr>\n",
       "      <th>2016-05-10</th>\n",
       "      <td>False</td>\n",
       "      <td>False</td>\n",
       "      <td>False</td>\n",
       "      <td>False</td>\n",
       "      <td>False</td>\n",
       "      <td>True</td>\n",
       "    </tr>\n",
       "    <tr>\n",
       "      <th>2016-10-20</th>\n",
       "      <td>False</td>\n",
       "      <td>False</td>\n",
       "      <td>False</td>\n",
       "      <td>False</td>\n",
       "      <td>False</td>\n",
       "      <td>True</td>\n",
       "    </tr>\n",
       "    <tr>\n",
       "      <th>2014-10-06</th>\n",
       "      <td>False</td>\n",
       "      <td>False</td>\n",
       "      <td>False</td>\n",
       "      <td>False</td>\n",
       "      <td>False</td>\n",
       "      <td>True</td>\n",
       "    </tr>\n",
       "    <tr>\n",
       "      <th>2014-09-13</th>\n",
       "      <td>False</td>\n",
       "      <td>False</td>\n",
       "      <td>False</td>\n",
       "      <td>False</td>\n",
       "      <td>False</td>\n",
       "      <td>True</td>\n",
       "    </tr>\n",
       "  </tbody>\n",
       "</table>\n",
       "</div>"
      ],
      "text/plain": [
       "                      EmailSubmission  FaxSubmission  PhoneSubmission  \\\n",
       "Date_sent_to_company                                                    \n",
       "2014-03-17                      False          False            False   \n",
       "2016-05-10                      False          False            False   \n",
       "2016-10-20                      False          False            False   \n",
       "2014-10-06                      False          False            False   \n",
       "2014-09-13                      False          False            False   \n",
       "\n",
       "                      PostalSubmission  ReferralSubmission  WebSubmission  \n",
       "Date_sent_to_company                                                       \n",
       "2014-03-17                       False                True          False  \n",
       "2016-05-10                       False               False           True  \n",
       "2016-10-20                       False               False           True  \n",
       "2014-10-06                       False               False           True  \n",
       "2014-09-13                       False               False           True  "
      ]
     },
     "execution_count": 62,
     "metadata": {},
     "output_type": "execute_result"
    }
   ],
   "source": [
    "submitted_via =df1.loc[:,[\"EmailSubmission\",\"FaxSubmission\", \"PhoneSubmission\",\"PostalSubmission\",\"ReferralSubmission\", \"WebSubmission\"]]\n",
    "\n",
    "\n",
    "submitted_via.head()"
   ]
  },
  {
   "cell_type": "code",
   "execution_count": 63,
   "metadata": {
    "nbpresent": {
     "id": "b33448cb-63be-437f-abd2-17e3555e306d"
    }
   },
   "outputs": [
    {
     "data": {
      "text/html": [
       "<div>\n",
       "<style scoped>\n",
       "    .dataframe tbody tr th:only-of-type {\n",
       "        vertical-align: middle;\n",
       "    }\n",
       "\n",
       "    .dataframe tbody tr th {\n",
       "        vertical-align: top;\n",
       "    }\n",
       "\n",
       "    .dataframe thead th {\n",
       "        text-align: right;\n",
       "    }\n",
       "</style>\n",
       "<table border=\"1\" class=\"dataframe\">\n",
       "  <thead>\n",
       "    <tr style=\"text-align: right;\">\n",
       "      <th></th>\n",
       "      <th>EmailSubmission</th>\n",
       "      <th>FaxSubmission</th>\n",
       "      <th>PhoneSubmission</th>\n",
       "      <th>PostalSubmission</th>\n",
       "      <th>ReferralSubmission</th>\n",
       "      <th>WebSubmission</th>\n",
       "    </tr>\n",
       "    <tr>\n",
       "      <th>Date_sent_to_company</th>\n",
       "      <th></th>\n",
       "      <th></th>\n",
       "      <th></th>\n",
       "      <th></th>\n",
       "      <th></th>\n",
       "      <th></th>\n",
       "    </tr>\n",
       "  </thead>\n",
       "  <tbody>\n",
       "    <tr>\n",
       "      <th>2014-03-17</th>\n",
       "      <td>0</td>\n",
       "      <td>0</td>\n",
       "      <td>0</td>\n",
       "      <td>0</td>\n",
       "      <td>1</td>\n",
       "      <td>0</td>\n",
       "    </tr>\n",
       "    <tr>\n",
       "      <th>2016-05-10</th>\n",
       "      <td>0</td>\n",
       "      <td>0</td>\n",
       "      <td>0</td>\n",
       "      <td>0</td>\n",
       "      <td>0</td>\n",
       "      <td>1</td>\n",
       "    </tr>\n",
       "  </tbody>\n",
       "</table>\n",
       "</div>"
      ],
      "text/plain": [
       "                      EmailSubmission  FaxSubmission  PhoneSubmission  \\\n",
       "Date_sent_to_company                                                    \n",
       "2014-03-17                          0              0                0   \n",
       "2016-05-10                          0              0                0   \n",
       "\n",
       "                      PostalSubmission  ReferralSubmission  WebSubmission  \n",
       "Date_sent_to_company                                                       \n",
       "2014-03-17                           0                   1              0  \n",
       "2016-05-10                           0                   0              1  "
      ]
     },
     "execution_count": 63,
     "metadata": {},
     "output_type": "execute_result"
    }
   ],
   "source": [
    "\n",
    "submitted_via.EmailSubmission = submitted_via.EmailSubmission.astype(int)\n",
    "submitted_via.FaxSubmission= submitted_via.FaxSubmission.astype(int)\n",
    "submitted_via.PhoneSubmission= submitted_via.PhoneSubmission.astype(int)\n",
    "submitted_via.PostalSubmission = submitted_via.PostalSubmission.astype(int)\n",
    "submitted_via.ReferralSubmission= submitted_via.ReferralSubmission.astype(int)   \n",
    "submitted_via.WebSubmission= submitted_via.WebSubmission.astype(int)\n",
    "\n",
    "submitted_via.head(2)"
   ]
  },
  {
   "cell_type": "code",
   "execution_count": 64,
   "metadata": {
    "nbpresent": {
     "id": "dae1e29c-5883-4e81-88bc-98dbdb3f75bf"
    }
   },
   "outputs": [],
   "source": [
    "EmailSubmission_total=sum(submitted_via.EmailSubmission  ==True)\n",
    "FaxSubmission_total=sum(submitted_via.FaxSubmission  ==True)\n",
    "PhoneSubmission_total=sum(submitted_via.PhoneSubmission ==True)\n",
    "PostalSubmission_total=sum(submitted_via.PostalSubmission ==True)\n",
    "ReferralSubmission_total=sum(submitted_via.ReferralSubmission ==True)\n",
    "WebSubmission_total=sum(submitted_via.WebSubmission == True)\n",
    "\n"
   ]
  },
  {
   "cell_type": "code",
   "execution_count": 65,
   "metadata": {
    "nbpresent": {
     "id": "a11dbca2-5442-44ee-b5c6-e9742ddb214c"
    }
   },
   "outputs": [],
   "source": [
    "submitted_via1 = {\"EmailSubmission\": EmailSubmission_total, \"FaxSubmission\": FaxSubmission_total, \"PhoneSubmission\": PhoneSubmission_total, \n",
    "        \"PostalSubmission\": PostalSubmission_total, \"ReferralSubmission\": ReferralSubmission_total, \"WebSubmission\": WebSubmission_total} \n"
   ]
  },
  {
   "cell_type": "code",
   "execution_count": 66,
   "metadata": {
    "nbpresent": {
     "id": "52aee06e-d28f-483e-88d0-79026d168085"
    }
   },
   "outputs": [
    {
     "data": {
      "text/plain": [
       "{'EmailSubmission': 312,\n",
       " 'FaxSubmission': 14650,\n",
       " 'PhoneSubmission': 58619,\n",
       " 'PostalSubmission': 57950,\n",
       " 'ReferralSubmission': 147675,\n",
       " 'WebSubmission': 729086}"
      ]
     },
     "execution_count": 66,
     "metadata": {},
     "output_type": "execute_result"
    }
   ],
   "source": [
    "submitted_via1 "
   ]
  },
  {
   "cell_type": "code",
   "execution_count": 67,
   "metadata": {
    "nbpresent": {
     "id": "259ffda8-7791-4a21-9e59-4e7c4c7b41c3"
    }
   },
   "outputs": [
    {
     "data": {
      "image/png": "[encoded data removed]",
      "text/plain": [
       "<Figure size 432x432 with 1 Axes>"
      ]
     },
     "metadata": {},
     "output_type": "display_data"
    },
    {
     "data": {
      "text/plain": [
       "<Figure size 432x288 with 0 Axes>"
      ]
     },
     "metadata": {},
     "output_type": "display_data"
    }
   ],
   "source": [
    "figure(1, figsize=(6,6))\n",
    "ax = axes([0.2, 0.2, 0.8, 0.8])\n",
    "labels = 'EmailSubmission','FaxSubmission','PhoneSubmission','PostalSubmission','ReferralSubmission','WebSubmission'\n",
    "explode =(0.001, 0.001, 0.001, 0.001, 0.001, 0.001)\n",
    "piechart =plt.pie(range(len(submitted_via1 )),explode=explode,labels=labels,autopct='%1.1f%%',startangle=80)\n",
    "title('Complaint by type submitted ')\n",
    "show(piechart)\n",
    "#pdf.savefig()\n",
    "savefig('Complaint by type submitted', bbox_inches='tight')"
   ]
  },
  {
   "cell_type": "markdown",
   "metadata": {
    "collapsed": true,
    "nbpresent": {
     "id": "5c293c18-2a24-49e3-bd98-7eeb65c3c662"
    }
   },
   "source": [
    "## sub product "
   ]
  },
  {
   "cell_type": "code",
   "execution_count": 68,
   "metadata": {
    "nbpresent": {
     "id": "9dd744cb-02cc-41b3-955f-39d81ab865db"
    }
   },
   "outputs": [
    {
     "data": {
      "text/html": [
       "<div>\n",
       "<style scoped>\n",
       "    .dataframe tbody tr th:only-of-type {\n",
       "        vertical-align: middle;\n",
       "    }\n",
       "\n",
       "    .dataframe tbody tr th {\n",
       "        vertical-align: top;\n",
       "    }\n",
       "\n",
       "    .dataframe thead th {\n",
       "        text-align: right;\n",
       "    }\n",
       "</style>\n",
       "<table border=\"1\" class=\"dataframe\">\n",
       "  <thead>\n",
       "    <tr style=\"text-align: right;\">\n",
       "      <th>col_0</th>\n",
       "      <th>count_Subproduct</th>\n",
       "    </tr>\n",
       "    <tr>\n",
       "      <th>Sub_product</th>\n",
       "      <th></th>\n",
       "    </tr>\n",
       "  </thead>\n",
       "  <tbody>\n",
       "    <tr>\n",
       "      <th>(CD) Certificate of deposit</th>\n",
       "      <td>3333</td>\n",
       "    </tr>\n",
       "    <tr>\n",
       "      <th>Auto</th>\n",
       "      <td>3711</td>\n",
       "    </tr>\n",
       "    <tr>\n",
       "      <th>Auto debt</th>\n",
       "      <td>1488</td>\n",
       "    </tr>\n",
       "    <tr>\n",
       "      <th>CD (Certificate of Deposit)</th>\n",
       "      <td>512</td>\n",
       "    </tr>\n",
       "    <tr>\n",
       "      <th>Cashing a check without an account</th>\n",
       "      <td>610</td>\n",
       "    </tr>\n",
       "    <tr>\n",
       "      <th>...</th>\n",
       "      <td>...</td>\n",
       "    </tr>\n",
       "    <tr>\n",
       "      <th>Traveler’s/Cashier’s checks</th>\n",
       "      <td>87</td>\n",
       "    </tr>\n",
       "    <tr>\n",
       "      <th>VA mortgage</th>\n",
       "      <td>6279</td>\n",
       "    </tr>\n",
       "    <tr>\n",
       "      <th>Vehicle lease</th>\n",
       "      <td>2631</td>\n",
       "    </tr>\n",
       "    <tr>\n",
       "      <th>Vehicle loan</th>\n",
       "      <td>17572</td>\n",
       "    </tr>\n",
       "    <tr>\n",
       "      <th>Virtual currency</th>\n",
       "      <td>1416</td>\n",
       "    </tr>\n",
       "  </tbody>\n",
       "</table>\n",
       "<p>75 rows × 1 columns</p>\n",
       "</div>"
      ],
      "text/plain": [
       "col_0                               count_Subproduct\n",
       "Sub_product                                         \n",
       "(CD) Certificate of deposit                     3333\n",
       "Auto                                            3711\n",
       "Auto debt                                       1488\n",
       "CD (Certificate of Deposit)                      512\n",
       "Cashing a check without an account               610\n",
       "...                                              ...\n",
       "Traveler’s/Cashier’s checks                       87\n",
       "VA mortgage                                     6279\n",
       "Vehicle lease                                   2631\n",
       "Vehicle loan                                   17572\n",
       "Virtual currency                                1416\n",
       "\n",
       "[75 rows x 1 columns]"
      ]
     },
     "execution_count": 68,
     "metadata": {},
     "output_type": "execute_result"
    }
   ],
   "source": [
    "Subproduct_tab = pd.crosstab(index=df.Sub_product, columns=\"count_Subproduct\")\n",
    "Subproduct_tab \n"
   ]
  },
  {
   "cell_type": "code",
   "execution_count": 69,
   "metadata": {
    "nbpresent": {
     "id": "a3f04349-0b8b-42be-929e-1c5112b4018b"
    }
   },
   "outputs": [
    {
     "data": {
      "text/plain": [
       "count               775414\n",
       "unique                  75\n",
       "top       Credit reporting\n",
       "freq                106485\n",
       "Name: Sub_product, dtype: object"
      ]
     },
     "execution_count": 69,
     "metadata": {},
     "output_type": "execute_result"
    }
   ],
   "source": [
    "df.Sub_product.describe()"
   ]
  },
  {
   "cell_type": "code",
   "execution_count": 70,
   "metadata": {
    "nbpresent": {
     "id": "1309986d-b839-4158-9693-5e12339ce355"
    }
   },
   "outputs": [
    {
     "data": {
      "text/html": [
       "<div>\n",
       "<style scoped>\n",
       "    .dataframe tbody tr th:only-of-type {\n",
       "        vertical-align: middle;\n",
       "    }\n",
       "\n",
       "    .dataframe tbody tr th {\n",
       "        vertical-align: top;\n",
       "    }\n",
       "\n",
       "    .dataframe thead th {\n",
       "        text-align: right;\n",
       "    }\n",
       "</style>\n",
       "<table border=\"1\" class=\"dataframe\">\n",
       "  <thead>\n",
       "    <tr style=\"text-align: right;\">\n",
       "      <th>col_0</th>\n",
       "      <th>count_Consumer_disagreement</th>\n",
       "    </tr>\n",
       "    <tr>\n",
       "      <th>Sub_product</th>\n",
       "      <th></th>\n",
       "    </tr>\n",
       "  </thead>\n",
       "  <tbody>\n",
       "    <tr>\n",
       "      <th>(CD) Certificate of deposit</th>\n",
       "      <td>3333</td>\n",
       "    </tr>\n",
       "    <tr>\n",
       "      <th>Auto</th>\n",
       "      <td>3711</td>\n",
       "    </tr>\n",
       "    <tr>\n",
       "      <th>Auto debt</th>\n",
       "      <td>1488</td>\n",
       "    </tr>\n",
       "    <tr>\n",
       "      <th>CD (Certificate of Deposit)</th>\n",
       "      <td>512</td>\n",
       "    </tr>\n",
       "    <tr>\n",
       "      <th>Cashing a check without an account</th>\n",
       "      <td>610</td>\n",
       "    </tr>\n",
       "    <tr>\n",
       "      <th>...</th>\n",
       "      <td>...</td>\n",
       "    </tr>\n",
       "    <tr>\n",
       "      <th>Traveler’s/Cashier’s checks</th>\n",
       "      <td>87</td>\n",
       "    </tr>\n",
       "    <tr>\n",
       "      <th>VA mortgage</th>\n",
       "      <td>6279</td>\n",
       "    </tr>\n",
       "    <tr>\n",
       "      <th>Vehicle lease</th>\n",
       "      <td>2631</td>\n",
       "    </tr>\n",
       "    <tr>\n",
       "      <th>Vehicle loan</th>\n",
       "      <td>17572</td>\n",
       "    </tr>\n",
       "    <tr>\n",
       "      <th>Virtual currency</th>\n",
       "      <td>1416</td>\n",
       "    </tr>\n",
       "  </tbody>\n",
       "</table>\n",
       "<p>75 rows × 1 columns</p>\n",
       "</div>"
      ],
      "text/plain": [
       "col_0                               count_Consumer_disagreement\n",
       "Sub_product                                                    \n",
       "(CD) Certificate of deposit                                3333\n",
       "Auto                                                       3711\n",
       "Auto debt                                                  1488\n",
       "CD (Certificate of Deposit)                                 512\n",
       "Cashing a check without an account                          610\n",
       "...                                                         ...\n",
       "Traveler’s/Cashier’s checks                                  87\n",
       "VA mortgage                                                6279\n",
       "Vehicle lease                                              2631\n",
       "Vehicle loan                                              17572\n",
       "Virtual currency                                           1416\n",
       "\n",
       "[75 rows x 1 columns]"
      ]
     },
     "execution_count": 70,
     "metadata": {},
     "output_type": "execute_result"
    }
   ],
   "source": [
    "\n",
    "Sub_product_tab = pd.crosstab(index=df.Sub_product, columns=\"count_Consumer_disagreement\")\n",
    "Sub_product_tab\n"
   ]
  },
  {
   "cell_type": "code",
   "execution_count": 71,
   "metadata": {
    "nbpresent": {
     "id": "5ccd29f4-d9af-4186-ab32-c21ad7b5f96e"
    }
   },
   "outputs": [
    {
     "data": {
      "text/html": [
       "<div>\n",
       "<style scoped>\n",
       "    .dataframe tbody tr th:only-of-type {\n",
       "        vertical-align: middle;\n",
       "    }\n",
       "\n",
       "    .dataframe tbody tr th {\n",
       "        vertical-align: top;\n",
       "    }\n",
       "\n",
       "    .dataframe thead th {\n",
       "        text-align: right;\n",
       "    }\n",
       "</style>\n",
       "<table border=\"1\" class=\"dataframe\">\n",
       "  <thead>\n",
       "    <tr style=\"text-align: right;\">\n",
       "      <th>col_0</th>\n",
       "      <th>count_Consumer_disagreement</th>\n",
       "    </tr>\n",
       "    <tr>\n",
       "      <th>Sub_product</th>\n",
       "      <th></th>\n",
       "    </tr>\n",
       "  </thead>\n",
       "  <tbody>\n",
       "    <tr>\n",
       "      <th>(CD) Certificate of deposit</th>\n",
       "      <td>3333</td>\n",
       "    </tr>\n",
       "    <tr>\n",
       "      <th>Auto</th>\n",
       "      <td>3711</td>\n",
       "    </tr>\n",
       "    <tr>\n",
       "      <th>Auto debt</th>\n",
       "      <td>1488</td>\n",
       "    </tr>\n",
       "    <tr>\n",
       "      <th>CD (Certificate of Deposit)</th>\n",
       "      <td>512</td>\n",
       "    </tr>\n",
       "    <tr>\n",
       "      <th>Cashing a check without an account</th>\n",
       "      <td>610</td>\n",
       "    </tr>\n",
       "    <tr>\n",
       "      <th>...</th>\n",
       "      <td>...</td>\n",
       "    </tr>\n",
       "    <tr>\n",
       "      <th>Traveler’s/Cashier’s checks</th>\n",
       "      <td>87</td>\n",
       "    </tr>\n",
       "    <tr>\n",
       "      <th>VA mortgage</th>\n",
       "      <td>6279</td>\n",
       "    </tr>\n",
       "    <tr>\n",
       "      <th>Vehicle lease</th>\n",
       "      <td>2631</td>\n",
       "    </tr>\n",
       "    <tr>\n",
       "      <th>Vehicle loan</th>\n",
       "      <td>17572</td>\n",
       "    </tr>\n",
       "    <tr>\n",
       "      <th>Virtual currency</th>\n",
       "      <td>1416</td>\n",
       "    </tr>\n",
       "  </tbody>\n",
       "</table>\n",
       "<p>75 rows × 1 columns</p>\n",
       "</div>"
      ],
      "text/plain": [
       "col_0                               count_Consumer_disagreement\n",
       "Sub_product                                                    \n",
       "(CD) Certificate of deposit                                3333\n",
       "Auto                                                       3711\n",
       "Auto debt                                                  1488\n",
       "CD (Certificate of Deposit)                                 512\n",
       "Cashing a check without an account                          610\n",
       "...                                                         ...\n",
       "Traveler’s/Cashier’s checks                                  87\n",
       "VA mortgage                                                6279\n",
       "Vehicle lease                                              2631\n",
       "Vehicle loan                                              17572\n",
       "Virtual currency                                           1416\n",
       "\n",
       "[75 rows x 1 columns]"
      ]
     },
     "execution_count": 71,
     "metadata": {},
     "output_type": "execute_result"
    }
   ],
   "source": [
    "Sub_product_tab"
   ]
  },
  {
   "cell_type": "markdown",
   "metadata": {
    "collapsed": true,
    "nbpresent": {
     "id": "a17eac1a-047a-411d-9b43-5635c32a5bd4"
    }
   },
   "source": [
    "## Company"
   ]
  },
  {
   "cell_type": "code",
   "execution_count": 72,
   "metadata": {
    "nbpresent": {
     "id": "f0ec9337-d0e2-4857-aafb-fe6b6a51f548"
    }
   },
   "outputs": [
    {
     "data": {
      "text/plain": [
       "count           1008292\n",
       "unique             4759\n",
       "top       EQUIFAX, INC.\n",
       "freq              82894\n",
       "Name: Company, dtype: object"
      ]
     },
     "execution_count": 72,
     "metadata": {},
     "output_type": "execute_result"
    }
   ],
   "source": [
    "df[\"Company\"].describe()"
   ]
  },
  {
   "cell_type": "code",
   "execution_count": 73,
   "metadata": {
    "nbpresent": {
     "id": "6e277cb2-8516-4964-aaa9-93e8676ee796"
    }
   },
   "outputs": [
    {
     "data": {
      "text/html": [
       "<div>\n",
       "<style scoped>\n",
       "    .dataframe tbody tr th:only-of-type {\n",
       "        vertical-align: middle;\n",
       "    }\n",
       "\n",
       "    .dataframe tbody tr th {\n",
       "        vertical-align: top;\n",
       "    }\n",
       "\n",
       "    .dataframe thead th {\n",
       "        text-align: right;\n",
       "    }\n",
       "</style>\n",
       "<table border=\"1\" class=\"dataframe\">\n",
       "  <thead>\n",
       "    <tr style=\"text-align: right;\">\n",
       "      <th>col_0</th>\n",
       "      <th>count_company</th>\n",
       "    </tr>\n",
       "    <tr>\n",
       "      <th>Company</th>\n",
       "      <th></th>\n",
       "    </tr>\n",
       "  </thead>\n",
       "  <tbody>\n",
       "    <tr>\n",
       "      <th>(Former)Shapiro, Swertfeger &amp; Hasty, LLP</th>\n",
       "      <td>11</td>\n",
       "    </tr>\n",
       "    <tr>\n",
       "      <th>1 STOP MONEY CENTERS, LLC</th>\n",
       "      <td>2</td>\n",
       "    </tr>\n",
       "    <tr>\n",
       "      <th>1ST 2ND MORTGAGE CO. OF NJ INC</th>\n",
       "      <td>2</td>\n",
       "    </tr>\n",
       "    <tr>\n",
       "      <th>1ST ALLIANCE LENDING, LLC</th>\n",
       "      <td>20</td>\n",
       "    </tr>\n",
       "    <tr>\n",
       "      <th>1ST FINANCIAL, INC.</th>\n",
       "      <td>1</td>\n",
       "    </tr>\n",
       "    <tr>\n",
       "      <th>...</th>\n",
       "      <td>...</td>\n",
       "    </tr>\n",
       "    <tr>\n",
       "      <th>iServe Trust</th>\n",
       "      <td>9</td>\n",
       "    </tr>\n",
       "    <tr>\n",
       "      <th>loanDepot.com, LLC</th>\n",
       "      <td>573</td>\n",
       "    </tr>\n",
       "    <tr>\n",
       "      <th>reekside Recovery And Capital Management</th>\n",
       "      <td>24</td>\n",
       "    </tr>\n",
       "    <tr>\n",
       "      <th>xCoins, Inc.</th>\n",
       "      <td>1</td>\n",
       "    </tr>\n",
       "    <tr>\n",
       "      <th>Lippman Recupero, LLC</th>\n",
       "      <td>5</td>\n",
       "    </tr>\n",
       "  </tbody>\n",
       "</table>\n",
       "<p>4759 rows × 1 columns</p>\n",
       "</div>"
      ],
      "text/plain": [
       "col_0                                     count_company\n",
       "Company                                                \n",
       "(Former)Shapiro, Swertfeger & Hasty, LLP             11\n",
       "1 STOP MONEY CENTERS, LLC                             2\n",
       "1ST 2ND MORTGAGE CO. OF NJ INC                        2\n",
       "1ST ALLIANCE LENDING, LLC                            20\n",
       "1ST FINANCIAL, INC.                                   1\n",
       "...                                                 ...\n",
       "iServe Trust                                          9\n",
       "loanDepot.com, LLC                                  573\n",
       "reekside Recovery And Capital Management             24\n",
       "xCoins, Inc.                                          1\n",
       " Lippman Recupero, LLC                                5\n",
       "\n",
       "[4759 rows x 1 columns]"
      ]
     },
     "execution_count": 73,
     "metadata": {},
     "output_type": "execute_result"
    }
   ],
   "source": [
    "Company_tab = pd.crosstab(index=df.Company, columns=\"count_company\")\n",
    "Company_tab "
   ]
  },
  {
   "cell_type": "code",
   "execution_count": 74,
   "metadata": {
    "nbpresent": {
     "id": "be960caf-0714-4f1f-a264-195703c06e66"
    }
   },
   "outputs": [
    {
     "data": {
      "text/html": [
       "<div>\n",
       "<style scoped>\n",
       "    .dataframe tbody tr th:only-of-type {\n",
       "        vertical-align: middle;\n",
       "    }\n",
       "\n",
       "    .dataframe tbody tr th {\n",
       "        vertical-align: top;\n",
       "    }\n",
       "\n",
       "    .dataframe thead th {\n",
       "        text-align: right;\n",
       "    }\n",
       "</style>\n",
       "<table border=\"1\" class=\"dataframe\">\n",
       "  <thead>\n",
       "    <tr style=\"text-align: right;\">\n",
       "      <th>col_0</th>\n",
       "      <th>count_company</th>\n",
       "    </tr>\n",
       "  </thead>\n",
       "  <tbody>\n",
       "    <tr>\n",
       "      <th>count</th>\n",
       "      <td>4759.000000</td>\n",
       "    </tr>\n",
       "    <tr>\n",
       "      <th>mean</th>\n",
       "      <td>211.870561</td>\n",
       "    </tr>\n",
       "    <tr>\n",
       "      <th>std</th>\n",
       "      <td>2654.135252</td>\n",
       "    </tr>\n",
       "    <tr>\n",
       "      <th>min</th>\n",
       "      <td>1.000000</td>\n",
       "    </tr>\n",
       "    <tr>\n",
       "      <th>25%</th>\n",
       "      <td>2.000000</td>\n",
       "    </tr>\n",
       "    <tr>\n",
       "      <th>50%</th>\n",
       "      <td>6.000000</td>\n",
       "    </tr>\n",
       "    <tr>\n",
       "      <th>75%</th>\n",
       "      <td>28.000000</td>\n",
       "    </tr>\n",
       "    <tr>\n",
       "      <th>max</th>\n",
       "      <td>82894.000000</td>\n",
       "    </tr>\n",
       "  </tbody>\n",
       "</table>\n",
       "</div>"
      ],
      "text/plain": [
       "col_0  count_company\n",
       "count    4759.000000\n",
       "mean      211.870561\n",
       "std      2654.135252\n",
       "min         1.000000\n",
       "25%         2.000000\n",
       "50%         6.000000\n",
       "75%        28.000000\n",
       "max     82894.000000"
      ]
     },
     "execution_count": 74,
     "metadata": {},
     "output_type": "execute_result"
    }
   ],
   "source": [
    "Company_tab.describe()"
   ]
  },
  {
   "cell_type": "code",
   "execution_count": 75,
   "metadata": {
    "nbpresent": {
     "id": "24388672-927b-43ca-947c-a64093995f53"
    }
   },
   "outputs": [
    {
     "data": {
      "text/plain": [
       "82894"
      ]
     },
     "execution_count": 75,
     "metadata": {},
     "output_type": "execute_result"
    }
   ],
   "source": [
    "most_complained_company = df.Company.value_counts().max()\n",
    "most_complained_company"
   ]
  },
  {
   "cell_type": "code",
   "execution_count": 76,
   "metadata": {
    "nbpresent": {
     "id": "25dd214a-a4b3-494e-946e-6fcfed73f3de"
    }
   },
   "outputs": [
    {
     "data": {
      "text/plain": [
       "EQUIFAX, INC.                             82894\n",
       "BANK OF AMERICA, NATIONAL ASSOCIATION     73024\n",
       "Experian Information Solutions Inc.       71811\n",
       "TRANSUNION INTERMEDIATE HOLDINGS, INC.    65289\n",
       "WELLS FARGO & COMPANY                     61141\n",
       "JPMORGAN CHASE & CO.                      50350\n",
       "CITIBANK, N.A.                            41004\n",
       "CAPITAL ONE FINANCIAL CORPORATION         26525\n",
       "OCWEN LOAN SERVICING LLC                  26033\n",
       "Navient Solutions, LLC.                   24048\n",
       "Name: Company, dtype: int64"
      ]
     },
     "execution_count": 76,
     "metadata": {},
     "output_type": "execute_result"
    }
   ],
   "source": [
    "top_10_complaint_by_company =df.Company.value_counts().nlargest(10)\n",
    "top_10_complaint_by_company"
   ]
  },
  {
   "cell_type": "code",
   "execution_count": 77,
   "metadata": {
    "nbpresent": {
     "id": "f540d647-6e9e-41fd-a138-478b9d606bfb"
    }
   },
   "outputs": [],
   "source": [
    "# mean \n",
    "means = df1.Company.value_counts().mean()\n",
    "\n",
    "#standard deviation\n",
    "errors = df1.Company.value_counts().std()\n"
   ]
  },
  {
   "cell_type": "code",
   "execution_count": 78,
   "metadata": {
    "nbpresent": {
     "id": "e30de434-040b-4eed-9e15-8d3d60431bdc"
    }
   },
   "outputs": [
    {
     "name": "stdout",
     "output_type": "stream",
     "text": [
      "211.87056104223578\n",
      "2654.135251889538\n"
     ]
    }
   ],
   "source": [
    "print (means)\n",
    "print(errors)"
   ]
  },
  {
   "cell_type": "code",
   "execution_count": 79,
   "metadata": {
    "nbpresent": {
     "id": "23d754d9-0f7e-49e3-b0c7-95a5c01b4504"
    }
   },
   "outputs": [
    {
     "data": {
      "image/png": "[encoded data removed]",
      "text/plain": [
       "<Figure size 432x288 with 1 Axes>"
      ]
     },
     "metadata": {},
     "output_type": "display_data"
    }
   ],
   "source": [
    "\n",
    "\n",
    "top_10_complaint_by_company.plot(kind='barh',xerr=errors)\n",
    "\n",
    "\n",
    "plt.xlabel('# Frequency')\n",
    "plt.ylabel('Company names')\n",
    "plt.title('Top 10 companies consumers most complained about ')\n",
    "plt.legend(loc='upper right')\n",
    "plt.show()"
   ]
  },
  {
   "cell_type": "code",
   "execution_count": 80,
   "metadata": {
    "nbpresent": {
     "id": "6c4a8cc1-8a0e-4ef0-8b3c-690b5829be67"
    }
   },
   "outputs": [
    {
     "data": {
      "text/plain": [
       "Northwest Title Company                      1\n",
       "Miller Investment Group, Inc DBA AutoNow     1\n",
       "Gillman Interests, Inc.                      1\n",
       "Investment Evolution Corporation             1\n",
       "Quality Title, Inc.                          1\n",
       "Global Home Finance Inc                      1\n",
       "Davis & Amaral Mortgage Consultants, Inc.    1\n",
       "CAPITAL CENTER LLC                           1\n",
       "Figliola & Romano, LLC                       1\n",
       "Olson Associates PC                          1\n",
       "Name: Company, dtype: int64"
      ]
     },
     "execution_count": 80,
     "metadata": {},
     "output_type": "execute_result"
    }
   ],
   "source": [
    "_10_least_complaint =df.Company.value_counts().nsmallest(10)\n",
    "_10_least_complaint"
   ]
  },
  {
   "cell_type": "markdown",
   "metadata": {
    "nbpresent": {
     "id": "79f5230c-1c2e-44da-b2cc-21f5bdd63b70"
    }
   },
   "source": [
    "### get how many debt collection complaint the Bank of America received every day, month, year?"
   ]
  },
  {
   "cell_type": "code",
   "execution_count": 81,
   "metadata": {
    "nbpresent": {
     "id": "ef888779-a20d-4219-96f4-2738d23bd7a2"
    }
   },
   "outputs": [
    {
     "data": {
      "text/html": [
       "<div>\n",
       "<style scoped>\n",
       "    .dataframe tbody tr th:only-of-type {\n",
       "        vertical-align: middle;\n",
       "    }\n",
       "\n",
       "    .dataframe tbody tr th {\n",
       "        vertical-align: top;\n",
       "    }\n",
       "\n",
       "    .dataframe thead th {\n",
       "        text-align: right;\n",
       "    }\n",
       "</style>\n",
       "<table border=\"1\" class=\"dataframe\">\n",
       "  <thead>\n",
       "    <tr style=\"text-align: right;\">\n",
       "      <th></th>\n",
       "      <th>Product</th>\n",
       "      <th>Company</th>\n",
       "    </tr>\n",
       "    <tr>\n",
       "      <th>Date_sent_to_company</th>\n",
       "      <th></th>\n",
       "      <th></th>\n",
       "    </tr>\n",
       "  </thead>\n",
       "  <tbody>\n",
       "    <tr>\n",
       "      <th>2014-03-17</th>\n",
       "      <td>Mortgage</td>\n",
       "      <td>M&amp;T BANK CORPORATION</td>\n",
       "    </tr>\n",
       "    <tr>\n",
       "      <th>2016-05-10</th>\n",
       "      <td>Credit reporting</td>\n",
       "      <td>TRANSUNION INTERMEDIATE HOLDINGS, INC.</td>\n",
       "    </tr>\n",
       "    <tr>\n",
       "      <th>2016-10-20</th>\n",
       "      <td>Consumer Loan</td>\n",
       "      <td>CITIZENS FINANCIAL GROUP, INC.</td>\n",
       "    </tr>\n",
       "  </tbody>\n",
       "</table>\n",
       "</div>"
      ],
      "text/plain": [
       "                               Product                                 Company\n",
       "Date_sent_to_company                                                          \n",
       "2014-03-17                    Mortgage                    M&T BANK CORPORATION\n",
       "2016-05-10            Credit reporting  TRANSUNION INTERMEDIATE HOLDINGS, INC.\n",
       "2016-10-20               Consumer Loan          CITIZENS FINANCIAL GROUP, INC."
      ]
     },
     "execution_count": 81,
     "metadata": {},
     "output_type": "execute_result"
    }
   ],
   "source": [
    "newDf = df.loc[:,('Product','Company')]\n",
    "newDf.head(3)\n",
    "#print(\"now that the df has been created, a selection must be apply so that Bank of American and debt collection values can be analysed\")"
   ]
  },
  {
   "cell_type": "code",
   "execution_count": 82,
   "metadata": {
    "nbpresent": {
     "id": "e948fae0-55fe-40ae-a462-97cf345b05d3"
    }
   },
   "outputs": [
    {
     "data": {
      "text/html": [
       "<div>\n",
       "<style scoped>\n",
       "    .dataframe tbody tr th:only-of-type {\n",
       "        vertical-align: middle;\n",
       "    }\n",
       "\n",
       "    .dataframe tbody tr th {\n",
       "        vertical-align: top;\n",
       "    }\n",
       "\n",
       "    .dataframe thead th {\n",
       "        text-align: right;\n",
       "    }\n",
       "</style>\n",
       "<table border=\"1\" class=\"dataframe\">\n",
       "  <thead>\n",
       "    <tr style=\"text-align: right;\">\n",
       "      <th></th>\n",
       "      <th>Product</th>\n",
       "      <th>Company</th>\n",
       "      <th>Bank_of_America</th>\n",
       "      <th>debt_Collection</th>\n",
       "    </tr>\n",
       "    <tr>\n",
       "      <th>Date_sent_to_company</th>\n",
       "      <th></th>\n",
       "      <th></th>\n",
       "      <th></th>\n",
       "      <th></th>\n",
       "    </tr>\n",
       "  </thead>\n",
       "  <tbody>\n",
       "    <tr>\n",
       "      <th>2014-03-17</th>\n",
       "      <td>Mortgage</td>\n",
       "      <td>M&amp;T BANK CORPORATION</td>\n",
       "      <td>False</td>\n",
       "      <td>False</td>\n",
       "    </tr>\n",
       "  </tbody>\n",
       "</table>\n",
       "</div>"
      ],
      "text/plain": [
       "                       Product               Company  Bank_of_America  \\\n",
       "Date_sent_to_company                                                    \n",
       "2014-03-17            Mortgage  M&T BANK CORPORATION            False   \n",
       "\n",
       "                      debt_Collection  \n",
       "Date_sent_to_company                   \n",
       "2014-03-17                      False  "
      ]
     },
     "execution_count": 82,
     "metadata": {},
     "output_type": "execute_result"
    }
   ],
   "source": [
    "newDf[\"Bank_of_America\"] = newDf[\"Company\"].str.contains(\"Bank of America\")\n",
    "newDf[\"debt_Collection\"] = newDf[\"Product\"].str.contains(\"Debt collection\")\n",
    "newDf.head(1)\n",
    "\n"
   ]
  },
  {
   "cell_type": "code",
   "execution_count": 83,
   "metadata": {
    "nbpresent": {
     "id": "ba23232d-12d6-4e3d-b711-b12a0fbd6cd9"
    }
   },
   "outputs": [
    {
     "data": {
      "text/html": [
       "<div>\n",
       "<style scoped>\n",
       "    .dataframe tbody tr th:only-of-type {\n",
       "        vertical-align: middle;\n",
       "    }\n",
       "\n",
       "    .dataframe tbody tr th {\n",
       "        vertical-align: top;\n",
       "    }\n",
       "\n",
       "    .dataframe thead th {\n",
       "        text-align: right;\n",
       "    }\n",
       "</style>\n",
       "<table border=\"1\" class=\"dataframe\">\n",
       "  <thead>\n",
       "    <tr style=\"text-align: right;\">\n",
       "      <th></th>\n",
       "      <th>Bank_of_America</th>\n",
       "      <th>debt_Collection</th>\n",
       "    </tr>\n",
       "    <tr>\n",
       "      <th>Date_sent_to_company</th>\n",
       "      <th></th>\n",
       "      <th></th>\n",
       "    </tr>\n",
       "  </thead>\n",
       "  <tbody>\n",
       "    <tr>\n",
       "      <th>2014-03-17</th>\n",
       "      <td>False</td>\n",
       "      <td>False</td>\n",
       "    </tr>\n",
       "  </tbody>\n",
       "</table>\n",
       "</div>"
      ],
      "text/plain": [
       "                      Bank_of_America  debt_Collection\n",
       "Date_sent_to_company                                  \n",
       "2014-03-17                      False            False"
      ]
     },
     "execution_count": 83,
     "metadata": {},
     "output_type": "execute_result"
    }
   ],
   "source": [
    "variableToDrop = ['Product', 'Company']\n",
    "\n",
    "newDf= newDf.drop(variableToDrop,1)\n",
    "\n",
    "\n",
    "newDf.head(1)\n"
   ]
  },
  {
   "cell_type": "code",
   "execution_count": 84,
   "metadata": {
    "nbpresent": {
     "id": "1beab34f-32ff-4560-9ff9-7b8200cb4620"
    }
   },
   "outputs": [
    {
     "data": {
      "text/html": [
       "<div>\n",
       "<style scoped>\n",
       "    .dataframe tbody tr th:only-of-type {\n",
       "        vertical-align: middle;\n",
       "    }\n",
       "\n",
       "    .dataframe tbody tr th {\n",
       "        vertical-align: top;\n",
       "    }\n",
       "\n",
       "    .dataframe thead th {\n",
       "        text-align: right;\n",
       "    }\n",
       "</style>\n",
       "<table border=\"1\" class=\"dataframe\">\n",
       "  <thead>\n",
       "    <tr style=\"text-align: right;\">\n",
       "      <th></th>\n",
       "      <th>Bank_of_America</th>\n",
       "      <th>debt_Collection</th>\n",
       "    </tr>\n",
       "    <tr>\n",
       "      <th>Date_sent_to_company</th>\n",
       "      <th></th>\n",
       "      <th></th>\n",
       "    </tr>\n",
       "  </thead>\n",
       "  <tbody>\n",
       "    <tr>\n",
       "      <th>2014-03-17</th>\n",
       "      <td>0</td>\n",
       "      <td>0</td>\n",
       "    </tr>\n",
       "    <tr>\n",
       "      <th>2016-05-10</th>\n",
       "      <td>0</td>\n",
       "      <td>0</td>\n",
       "    </tr>\n",
       "    <tr>\n",
       "      <th>2016-10-20</th>\n",
       "      <td>0</td>\n",
       "      <td>0</td>\n",
       "    </tr>\n",
       "    <tr>\n",
       "      <th>2014-10-06</th>\n",
       "      <td>0</td>\n",
       "      <td>0</td>\n",
       "    </tr>\n",
       "    <tr>\n",
       "      <th>2014-09-13</th>\n",
       "      <td>0</td>\n",
       "      <td>1</td>\n",
       "    </tr>\n",
       "  </tbody>\n",
       "</table>\n",
       "</div>"
      ],
      "text/plain": [
       "                      Bank_of_America  debt_Collection\n",
       "Date_sent_to_company                                  \n",
       "2014-03-17                          0                0\n",
       "2016-05-10                          0                0\n",
       "2016-10-20                          0                0\n",
       "2014-10-06                          0                0\n",
       "2014-09-13                          0                1"
      ]
     },
     "execution_count": 84,
     "metadata": {},
     "output_type": "execute_result"
    }
   ],
   "source": [
    "# discretise the values in both variable \n",
    "newDf.Bank_of_America = newDf.Bank_of_America.astype(int)    # discretise the values in both variable bank of america\n",
    "newDf.debt_Collection = newDf.debt_Collection.astype(int)    # discretise the values in both variable debt collection\n",
    "\n",
    "newDf.head()                                                # printout the data sample"
   ]
  },
  {
   "cell_type": "code",
   "execution_count": 85,
   "metadata": {
    "nbpresent": {
     "id": "b8509553-fec8-4b15-b8a4-dd4eafd11173"
    }
   },
   "outputs": [
    {
     "data": {
      "text/html": [
       "<div>\n",
       "<style scoped>\n",
       "    .dataframe tbody tr th:only-of-type {\n",
       "        vertical-align: middle;\n",
       "    }\n",
       "\n",
       "    .dataframe tbody tr th {\n",
       "        vertical-align: top;\n",
       "    }\n",
       "\n",
       "    .dataframe thead th {\n",
       "        text-align: right;\n",
       "    }\n",
       "</style>\n",
       "<table border=\"1\" class=\"dataframe\">\n",
       "  <thead>\n",
       "    <tr style=\"text-align: right;\">\n",
       "      <th></th>\n",
       "      <th>Bank_of_America</th>\n",
       "      <th>debt_Collection</th>\n",
       "      <th>weekday</th>\n",
       "    </tr>\n",
       "    <tr>\n",
       "      <th>Date_sent_to_company</th>\n",
       "      <th></th>\n",
       "      <th></th>\n",
       "      <th></th>\n",
       "    </tr>\n",
       "  </thead>\n",
       "  <tbody>\n",
       "    <tr>\n",
       "      <th>2014-03-17</th>\n",
       "      <td>0</td>\n",
       "      <td>0</td>\n",
       "      <td>0</td>\n",
       "    </tr>\n",
       "  </tbody>\n",
       "</table>\n",
       "</div>"
      ],
      "text/plain": [
       "                      Bank_of_America  debt_Collection  weekday\n",
       "Date_sent_to_company                                           \n",
       "2014-03-17                          0                0        0"
      ]
     },
     "execution_count": 85,
     "metadata": {},
     "output_type": "execute_result"
    }
   ],
   "source": [
    "newDf['weekday'] = newDf.index.weekday\n",
    "\n",
    "newDf.head(1)    "
   ]
  },
  {
   "cell_type": "code",
   "execution_count": 86,
   "metadata": {
    "nbpresent": {
     "id": "2f54227c-8b84-4bde-b0d4-a05e2a3ea790"
    }
   },
   "outputs": [
    {
     "data": {
      "text/html": [
       "<div>\n",
       "<style scoped>\n",
       "    .dataframe tbody tr th:only-of-type {\n",
       "        vertical-align: middle;\n",
       "    }\n",
       "\n",
       "    .dataframe tbody tr th {\n",
       "        vertical-align: top;\n",
       "    }\n",
       "\n",
       "    .dataframe thead th {\n",
       "        text-align: right;\n",
       "    }\n",
       "</style>\n",
       "<table border=\"1\" class=\"dataframe\">\n",
       "  <thead>\n",
       "    <tr style=\"text-align: right;\">\n",
       "      <th></th>\n",
       "      <th>Bank_of_America</th>\n",
       "      <th>debt_Collection</th>\n",
       "      <th>weekday</th>\n",
       "    </tr>\n",
       "    <tr>\n",
       "      <th>Date_sent_to_company</th>\n",
       "      <th></th>\n",
       "      <th></th>\n",
       "      <th></th>\n",
       "    </tr>\n",
       "  </thead>\n",
       "  <tbody>\n",
       "    <tr>\n",
       "      <th>2014-03-17</th>\n",
       "      <td>0</td>\n",
       "      <td>0</td>\n",
       "      <td>Monday</td>\n",
       "    </tr>\n",
       "  </tbody>\n",
       "</table>\n",
       "</div>"
      ],
      "text/plain": [
       "                      Bank_of_America  debt_Collection weekday\n",
       "Date_sent_to_company                                          \n",
       "2014-03-17                          0                0  Monday"
      ]
     },
     "execution_count": 86,
     "metadata": {},
     "output_type": "execute_result"
    }
   ],
   "source": [
    "days = ['Monday', 'Tuesday', 'Wednesday', 'Thursday', 'Friday', 'Saturday', 'Sunday']\n",
    "newDf['weekday'] = newDf['weekday'].map(lambda x: days[x])\n",
    "newDf.head(1)"
   ]
  },
  {
   "cell_type": "code",
   "execution_count": 87,
   "metadata": {
    "nbpresent": {
     "id": "20f5c938-4b72-463b-9dc8-c85838586aa8"
    }
   },
   "outputs": [
    {
     "data": {
      "text/html": [
       "<div>\n",
       "<style scoped>\n",
       "    .dataframe tbody tr th:only-of-type {\n",
       "        vertical-align: middle;\n",
       "    }\n",
       "\n",
       "    .dataframe tbody tr th {\n",
       "        vertical-align: top;\n",
       "    }\n",
       "\n",
       "    .dataframe thead th {\n",
       "        text-align: right;\n",
       "    }\n",
       "</style>\n",
       "<table border=\"1\" class=\"dataframe\">\n",
       "  <thead>\n",
       "    <tr style=\"text-align: right;\">\n",
       "      <th>debt_Collection</th>\n",
       "      <th>0</th>\n",
       "      <th>1</th>\n",
       "    </tr>\n",
       "    <tr>\n",
       "      <th>weekday</th>\n",
       "      <th></th>\n",
       "      <th></th>\n",
       "    </tr>\n",
       "  </thead>\n",
       "  <tbody>\n",
       "    <tr>\n",
       "      <th>Friday</th>\n",
       "      <td>131248</td>\n",
       "      <td>30458</td>\n",
       "    </tr>\n",
       "    <tr>\n",
       "      <th>Monday</th>\n",
       "      <td>129537</td>\n",
       "      <td>29899</td>\n",
       "    </tr>\n",
       "    <tr>\n",
       "      <th>Saturday</th>\n",
       "      <td>66279</td>\n",
       "      <td>16248</td>\n",
       "    </tr>\n",
       "    <tr>\n",
       "      <th>Sunday</th>\n",
       "      <td>66451</td>\n",
       "      <td>16951</td>\n",
       "    </tr>\n",
       "    <tr>\n",
       "      <th>Thursday</th>\n",
       "      <td>135447</td>\n",
       "      <td>32472</td>\n",
       "    </tr>\n",
       "    <tr>\n",
       "      <th>Tuesday</th>\n",
       "      <td>140997</td>\n",
       "      <td>34143</td>\n",
       "    </tr>\n",
       "    <tr>\n",
       "      <th>Wednesday</th>\n",
       "      <td>144769</td>\n",
       "      <td>33393</td>\n",
       "    </tr>\n",
       "  </tbody>\n",
       "</table>\n",
       "</div>"
      ],
      "text/plain": [
       "debt_Collection       0      1\n",
       "weekday                       \n",
       "Friday           131248  30458\n",
       "Monday           129537  29899\n",
       "Saturday          66279  16248\n",
       "Sunday            66451  16951\n",
       "Thursday         135447  32472\n",
       "Tuesday          140997  34143\n",
       "Wednesday        144769  33393"
      ]
     },
     "execution_count": 87,
     "metadata": {},
     "output_type": "execute_result"
    }
   ],
   "source": [
    "\n",
    "debt_table = pd.crosstab(index=newDf[\"weekday\"], \n",
    "                          columns=newDf[\"debt_Collection\"])\n",
    "\n",
    "debt_table \n"
   ]
  },
  {
   "cell_type": "code",
   "execution_count": 88,
   "metadata": {
    "nbpresent": {
     "id": "e7059172-b982-41f8-a265-012fe56eabc5"
    }
   },
   "outputs": [
    {
     "data": {
      "text/html": [
       "<div>\n",
       "<style scoped>\n",
       "    .dataframe tbody tr th:only-of-type {\n",
       "        vertical-align: middle;\n",
       "    }\n",
       "\n",
       "    .dataframe tbody tr th {\n",
       "        vertical-align: top;\n",
       "    }\n",
       "\n",
       "    .dataframe thead th {\n",
       "        text-align: right;\n",
       "    }\n",
       "</style>\n",
       "<table border=\"1\" class=\"dataframe\">\n",
       "  <thead>\n",
       "    <tr style=\"text-align: right;\">\n",
       "      <th>debt_Collection</th>\n",
       "      <th>0</th>\n",
       "      <th>1</th>\n",
       "    </tr>\n",
       "  </thead>\n",
       "  <tbody>\n",
       "    <tr>\n",
       "      <th>count</th>\n",
       "      <td>7.000000</td>\n",
       "      <td>7.000000</td>\n",
       "    </tr>\n",
       "    <tr>\n",
       "      <th>mean</th>\n",
       "      <td>116389.714286</td>\n",
       "      <td>27652.000000</td>\n",
       "    </tr>\n",
       "    <tr>\n",
       "      <th>std</th>\n",
       "      <td>34575.186559</td>\n",
       "      <td>7700.755634</td>\n",
       "    </tr>\n",
       "    <tr>\n",
       "      <th>min</th>\n",
       "      <td>66279.000000</td>\n",
       "      <td>16248.000000</td>\n",
       "    </tr>\n",
       "    <tr>\n",
       "      <th>25%</th>\n",
       "      <td>97994.000000</td>\n",
       "      <td>23425.000000</td>\n",
       "    </tr>\n",
       "    <tr>\n",
       "      <th>50%</th>\n",
       "      <td>131248.000000</td>\n",
       "      <td>30458.000000</td>\n",
       "    </tr>\n",
       "    <tr>\n",
       "      <th>75%</th>\n",
       "      <td>138222.000000</td>\n",
       "      <td>32932.500000</td>\n",
       "    </tr>\n",
       "    <tr>\n",
       "      <th>max</th>\n",
       "      <td>144769.000000</td>\n",
       "      <td>34143.000000</td>\n",
       "    </tr>\n",
       "  </tbody>\n",
       "</table>\n",
       "</div>"
      ],
      "text/plain": [
       "debt_Collection              0             1\n",
       "count                 7.000000      7.000000\n",
       "mean             116389.714286  27652.000000\n",
       "std               34575.186559   7700.755634\n",
       "min               66279.000000  16248.000000\n",
       "25%               97994.000000  23425.000000\n",
       "50%              131248.000000  30458.000000\n",
       "75%              138222.000000  32932.500000\n",
       "max              144769.000000  34143.000000"
      ]
     },
     "execution_count": 88,
     "metadata": {},
     "output_type": "execute_result"
    }
   ],
   "source": [
    "debt_table.describe()"
   ]
  },
  {
   "cell_type": "code",
   "execution_count": 89,
   "metadata": {
    "nbpresent": {
     "id": "ac7bd75c-9b62-460a-aee5-faa8e86546f9"
    }
   },
   "outputs": [
    {
     "data": {
      "text/html": [
       "<div>\n",
       "<style scoped>\n",
       "    .dataframe tbody tr th:only-of-type {\n",
       "        vertical-align: middle;\n",
       "    }\n",
       "\n",
       "    .dataframe tbody tr th {\n",
       "        vertical-align: top;\n",
       "    }\n",
       "\n",
       "    .dataframe thead th {\n",
       "        text-align: right;\n",
       "    }\n",
       "</style>\n",
       "<table border=\"1\" class=\"dataframe\">\n",
       "  <thead>\n",
       "    <tr style=\"text-align: right;\">\n",
       "      <th>Bank_of_America</th>\n",
       "      <th>0</th>\n",
       "    </tr>\n",
       "    <tr>\n",
       "      <th>weekday</th>\n",
       "      <th></th>\n",
       "    </tr>\n",
       "  </thead>\n",
       "  <tbody>\n",
       "    <tr>\n",
       "      <th>Friday</th>\n",
       "      <td>161706</td>\n",
       "    </tr>\n",
       "    <tr>\n",
       "      <th>Monday</th>\n",
       "      <td>159436</td>\n",
       "    </tr>\n",
       "    <tr>\n",
       "      <th>Saturday</th>\n",
       "      <td>82527</td>\n",
       "    </tr>\n",
       "    <tr>\n",
       "      <th>Sunday</th>\n",
       "      <td>83402</td>\n",
       "    </tr>\n",
       "    <tr>\n",
       "      <th>Thursday</th>\n",
       "      <td>167919</td>\n",
       "    </tr>\n",
       "    <tr>\n",
       "      <th>Tuesday</th>\n",
       "      <td>175140</td>\n",
       "    </tr>\n",
       "    <tr>\n",
       "      <th>Wednesday</th>\n",
       "      <td>178162</td>\n",
       "    </tr>\n",
       "  </tbody>\n",
       "</table>\n",
       "</div>"
      ],
      "text/plain": [
       "Bank_of_America       0\n",
       "weekday                \n",
       "Friday           161706\n",
       "Monday           159436\n",
       "Saturday          82527\n",
       "Sunday            83402\n",
       "Thursday         167919\n",
       "Tuesday          175140\n",
       "Wednesday        178162"
      ]
     },
     "execution_count": 89,
     "metadata": {},
     "output_type": "execute_result"
    }
   ],
   "source": [
    "\n",
    "Americabank_debt_table = pd.crosstab(index=newDf[\"weekday\"], \n",
    "                          columns=newDf[\"Bank_of_America\"])\n",
    "\n",
    "Americabank_debt_table"
   ]
  },
  {
   "cell_type": "code",
   "execution_count": 90,
   "metadata": {
    "nbpresent": {
     "id": "4d303a89-50cf-4edc-8e3f-cd2647a6fb3a"
    }
   },
   "outputs": [
    {
     "name": "stderr",
     "output_type": "stream",
     "text": [
      "No artists with labels found to put in legend.  Note that artists whose label start with an underscore are ignored when legend() is called with no argument.\n"
     ]
    },
    {
     "data": {
      "image/png": "[encoded data removed]",
      "text/plain": [
       "<Figure size 432x288 with 1 Axes>"
      ]
     },
     "metadata": {},
     "output_type": "display_data"
    }
   ],
   "source": [
    "dailycollection = newDf[\"debt_Collection\"].groupby(newDf.index.weekday).aggregate(np.sum)\n",
    "\n",
    "plt.plot(dailycollection,color='blue' )\n",
    "plt.xlabel('days')\n",
    "plt.ylabel(' Daily basis debt Collection')\n",
    "plt.legend(loc='upper right')\n",
    "plt.show()\n",
    "\n"
   ]
  },
  {
   "cell_type": "code",
   "execution_count": 91,
   "metadata": {
    "nbpresent": {
     "id": "6e8994ab-4794-44b4-8211-18253dfc5be0"
    }
   },
   "outputs": [],
   "source": [
    "\n",
    "df = df.dropna(subset=[\"Timely_response_yes_no\"])"
   ]
  },
  {
   "cell_type": "markdown",
   "metadata": {
    "nbpresent": {
     "id": "1543bd92-11d8-460e-b5a4-9c58b7a1e0df"
    }
   },
   "source": [
    "## Timely_response"
   ]
  },
  {
   "cell_type": "code",
   "execution_count": 92,
   "metadata": {
    "nbpresent": {
     "id": "8483a1f2-c97b-4136-b4df-3e342ab0a391"
    }
   },
   "outputs": [
    {
     "data": {
      "text/plain": [
       "count     1008292\n",
       "unique          2\n",
       "top           Yes\n",
       "freq       980962\n",
       "Name: Timely_response_yes_no, dtype: object"
      ]
     },
     "execution_count": 92,
     "metadata": {},
     "output_type": "execute_result"
    }
   ],
   "source": [
    "df[\"Timely_response_yes_no\"].describe()"
   ]
  },
  {
   "cell_type": "code",
   "execution_count": 93,
   "metadata": {
    "nbpresent": {
     "id": "e43fef47-d1a8-403c-a6f5-a6a465981083"
    }
   },
   "outputs": [
    {
     "data": {
      "text/html": [
       "<div>\n",
       "<style scoped>\n",
       "    .dataframe tbody tr th:only-of-type {\n",
       "        vertical-align: middle;\n",
       "    }\n",
       "\n",
       "    .dataframe tbody tr th {\n",
       "        vertical-align: top;\n",
       "    }\n",
       "\n",
       "    .dataframe thead th {\n",
       "        text-align: right;\n",
       "    }\n",
       "</style>\n",
       "<table border=\"1\" class=\"dataframe\">\n",
       "  <thead>\n",
       "    <tr style=\"text-align: right;\">\n",
       "      <th>col_0</th>\n",
       "      <th>count_Timely_response</th>\n",
       "    </tr>\n",
       "    <tr>\n",
       "      <th>Timely_response_yes_no</th>\n",
       "      <th></th>\n",
       "    </tr>\n",
       "  </thead>\n",
       "  <tbody>\n",
       "    <tr>\n",
       "      <th>No</th>\n",
       "      <td>27330</td>\n",
       "    </tr>\n",
       "    <tr>\n",
       "      <th>Yes</th>\n",
       "      <td>980962</td>\n",
       "    </tr>\n",
       "  </tbody>\n",
       "</table>\n",
       "</div>"
      ],
      "text/plain": [
       "col_0                   count_Timely_response\n",
       "Timely_response_yes_no                       \n",
       "No                                      27330\n",
       "Yes                                    980962"
      ]
     },
     "execution_count": 93,
     "metadata": {},
     "output_type": "execute_result"
    }
   ],
   "source": [
    "Timely_response_tab = pd.crosstab(index=df.Timely_response_yes_no, columns=\"count_Timely_response\")\n",
    "Timely_response_tab"
   ]
  },
  {
   "cell_type": "code",
   "execution_count": 94,
   "metadata": {
    "nbpresent": {
     "id": "0ecebb14-64ad-47bb-966d-ac7f916c54f5"
    }
   },
   "outputs": [
    {
     "data": {
      "text/html": [
       "<div>\n",
       "<style scoped>\n",
       "    .dataframe tbody tr th:only-of-type {\n",
       "        vertical-align: middle;\n",
       "    }\n",
       "\n",
       "    .dataframe tbody tr th {\n",
       "        vertical-align: top;\n",
       "    }\n",
       "\n",
       "    .dataframe thead th {\n",
       "        text-align: right;\n",
       "    }\n",
       "</style>\n",
       "<table border=\"1\" class=\"dataframe\">\n",
       "  <thead>\n",
       "    <tr style=\"text-align: right;\">\n",
       "      <th>col_0</th>\n",
       "      <th>count_Timely_response</th>\n",
       "    </tr>\n",
       "  </thead>\n",
       "  <tbody>\n",
       "    <tr>\n",
       "      <th>count</th>\n",
       "      <td>2.000000</td>\n",
       "    </tr>\n",
       "    <tr>\n",
       "      <th>mean</th>\n",
       "      <td>504146.000000</td>\n",
       "    </tr>\n",
       "    <tr>\n",
       "      <th>std</th>\n",
       "      <td>674319.653956</td>\n",
       "    </tr>\n",
       "    <tr>\n",
       "      <th>min</th>\n",
       "      <td>27330.000000</td>\n",
       "    </tr>\n",
       "    <tr>\n",
       "      <th>25%</th>\n",
       "      <td>265738.000000</td>\n",
       "    </tr>\n",
       "    <tr>\n",
       "      <th>50%</th>\n",
       "      <td>504146.000000</td>\n",
       "    </tr>\n",
       "    <tr>\n",
       "      <th>75%</th>\n",
       "      <td>742554.000000</td>\n",
       "    </tr>\n",
       "    <tr>\n",
       "      <th>max</th>\n",
       "      <td>980962.000000</td>\n",
       "    </tr>\n",
       "  </tbody>\n",
       "</table>\n",
       "</div>"
      ],
      "text/plain": [
       "col_0  count_Timely_response\n",
       "count               2.000000\n",
       "mean           504146.000000\n",
       "std            674319.653956\n",
       "min             27330.000000\n",
       "25%            265738.000000\n",
       "50%            504146.000000\n",
       "75%            742554.000000\n",
       "max            980962.000000"
      ]
     },
     "execution_count": 94,
     "metadata": {},
     "output_type": "execute_result"
    }
   ],
   "source": [
    "Timely_response_tab.describe()\n"
   ]
  },
  {
   "cell_type": "code",
   "execution_count": 95,
   "metadata": {
    "nbpresent": {
     "id": "a179d3f1-c55b-4ed1-b3c5-92dbfba05e58"
    }
   },
   "outputs": [],
   "source": [
    "df1[\"YesTimelyresponse\"]= df1.Timely_response_yes_no.str.contains(\"Yes\")\n",
    "df1[\"NoTimelyresponse\"]= df1.Timely_response_yes_no.str.contains(\"No\")"
   ]
  },
  {
   "cell_type": "code",
   "execution_count": 96,
   "metadata": {
    "nbpresent": {
     "id": "3e23e74e-8096-40b4-8ef8-0ffc2e899786"
    }
   },
   "outputs": [],
   "source": [
    "\n",
    "df1.YesTimelyresponse = df1.YesTimelyresponse.astype(int)\n",
    "df1.NoTimelyresponse = df1.NoTimelyresponse.astype(int)"
   ]
  },
  {
   "cell_type": "code",
   "execution_count": 97,
   "metadata": {
    "nbpresent": {
     "id": "408a86d1-23f4-4ac7-97aa-d35813851457"
    }
   },
   "outputs": [
    {
     "data": {
      "text/html": [
       "<div>\n",
       "<style scoped>\n",
       "    .dataframe tbody tr th:only-of-type {\n",
       "        vertical-align: middle;\n",
       "    }\n",
       "\n",
       "    .dataframe tbody tr th {\n",
       "        vertical-align: top;\n",
       "    }\n",
       "\n",
       "    .dataframe thead th {\n",
       "        text-align: right;\n",
       "    }\n",
       "</style>\n",
       "<table border=\"1\" class=\"dataframe\">\n",
       "  <thead>\n",
       "    <tr style=\"text-align: right;\">\n",
       "      <th></th>\n",
       "      <th>YesTimelyresponse</th>\n",
       "      <th>NoTimelyresponse</th>\n",
       "    </tr>\n",
       "    <tr>\n",
       "      <th>Date_sent_to_company</th>\n",
       "      <th></th>\n",
       "      <th></th>\n",
       "    </tr>\n",
       "  </thead>\n",
       "  <tbody>\n",
       "    <tr>\n",
       "      <th>2014-03-17</th>\n",
       "      <td>1</td>\n",
       "      <td>0</td>\n",
       "    </tr>\n",
       "    <tr>\n",
       "      <th>2016-05-10</th>\n",
       "      <td>1</td>\n",
       "      <td>0</td>\n",
       "    </tr>\n",
       "  </tbody>\n",
       "</table>\n",
       "</div>"
      ],
      "text/plain": [
       "                      YesTimelyresponse  NoTimelyresponse\n",
       "Date_sent_to_company                                     \n",
       "2014-03-17                            1                 0\n",
       "2016-05-10                            1                 0"
      ]
     },
     "execution_count": 97,
     "metadata": {},
     "output_type": "execute_result"
    }
   ],
   "source": [
    "df_comp_resp=df1.loc[:,[\"YesTimelyresponse\",\"NoTimelyresponse\"]]\n",
    "\n",
    "\n",
    "df_comp_resp.head(2)"
   ]
  },
  {
   "cell_type": "code",
   "execution_count": 98,
   "metadata": {
    "nbpresent": {
     "id": "5cf456f5-8662-4a44-be56-26f7a1f68bb4"
    }
   },
   "outputs": [
    {
     "name": "stderr",
     "output_type": "stream",
     "text": [
      "No artists with labels found to put in legend.  Note that artists whose label start with an underscore are ignored when legend() is called with no argument.\n"
     ]
    },
    {
     "data": {
      "image/png": "[encoded data removed]",
      "text/plain": [
       "<Figure size 432x288 with 1 Axes>"
      ]
     },
     "metadata": {},
     "output_type": "display_data"
    },
    {
     "name": "stderr",
     "output_type": "stream",
     "text": [
      "No artists with labels found to put in legend.  Note that artists whose label start with an underscore are ignored when legend() is called with no argument.\n"
     ]
    },
    {
     "data": {
      "image/png": "[encoded data removed]",
      "text/plain": [
       "<Figure size 432x288 with 1 Axes>"
      ]
     },
     "metadata": {},
     "output_type": "display_data"
    }
   ],
   "source": [
    "\n",
    "\n",
    "monthMeans = df_comp_resp[\"YesTimelyresponse\"].groupby(df_comp_resp.index.month).aggregate(np.mean)\n",
    "\n",
    "plt.plot(monthMeans,color='blue' )\n",
    "plt.xlabel('Months')\n",
    "plt.ylabel('Average timely response(YES)')\n",
    "plt.legend(loc='upper right')\n",
    "plt.show()\n",
    "\n",
    "\n",
    "monthMeans1 = df_comp_resp[\"NoTimelyresponse\"].groupby(df_comp_resp.index.month).aggregate(np.mean)\n",
    "plt.plot(monthMeans1,color='darkred')\n",
    "plt.xlabel('Months')\n",
    "plt.ylabel('Average timely response (No)')\n",
    "plt.legend(loc='upper right')\n",
    "plt.show()\n"
   ]
  },
  {
   "cell_type": "code",
   "execution_count": 61,
   "metadata": {
    "nbpresent": {
     "id": "80206231-c2a9-4ccd-9837-fa54d5611bb0"
    }
   },
   "outputs": [
    {
     "data": {
      "image/png": "[encoded data removed]",
      "text/plain": [
       "<matplotlib.figure.Figure at 0xada8eb8>"
      ]
     },
     "metadata": {},
     "output_type": "display_data"
    }
   ],
   "source": [
    "# Get current size\n",
    "fig_size = plt.rcParams[\"figure.figsize\"]\n",
    " \n",
    "# Prints: [8.0, 6.0]\n",
    "\n",
    " \n",
    "# Set figure width to 12 and height to 9\n",
    "fig_size[0] = 8\n",
    "fig_size[1] = 6\n",
    "plt.rcParams[\"figure.figsize\"] = fig_size\n",
    "\n",
    "\n",
    "\n",
    "monthMeans1 = df_comp_resp[\"NoTimelyresponse\"].groupby(df_comp_resp.index).aggregate(np.mean)\n",
    "plt.plot(monthMeans1,color='blue')\n",
    "plt.xlabel('year')\n",
    "plt.ylabel(' Yearly average timely response (No)')\n",
    "plt.legend(loc='upper right')\n",
    "plt.show()\n",
    "#savefig('Yearly average timely response.png')\n"
   ]
  },
  {
   "cell_type": "code",
   "execution_count": 99,
   "metadata": {
    "nbpresent": {
     "id": "3b94950d-985a-4eae-aa6d-a34d53e2ea07"
    }
   },
   "outputs": [
    {
     "data": {
      "text/plain": [
       "count                                      1008292\n",
       "unique                                         166\n",
       "top       Loan modification,collection,foreclosure\n",
       "freq                                        111093\n",
       "Name: issue, dtype: object"
      ]
     },
     "execution_count": 99,
     "metadata": {},
     "output_type": "execute_result"
    }
   ],
   "source": [
    "df[\"issue\"].describe()"
   ]
  },
  {
   "cell_type": "markdown",
   "metadata": {
    "nbpresent": {
     "id": "32d74e8a-571f-472f-b0c3-f2eab4da88f9"
    }
   },
   "source": [
    "## issue"
   ]
  },
  {
   "cell_type": "code",
   "execution_count": 100,
   "metadata": {
    "nbpresent": {
     "id": "e056e802-767b-40e8-9ad3-df48c727c083"
    }
   },
   "outputs": [
    {
     "data": {
      "text/html": [
       "<div>\n",
       "<style scoped>\n",
       "    .dataframe tbody tr th:only-of-type {\n",
       "        vertical-align: middle;\n",
       "    }\n",
       "\n",
       "    .dataframe tbody tr th {\n",
       "        vertical-align: top;\n",
       "    }\n",
       "\n",
       "    .dataframe thead th {\n",
       "        text-align: right;\n",
       "    }\n",
       "</style>\n",
       "<table border=\"1\" class=\"dataframe\">\n",
       "  <thead>\n",
       "    <tr style=\"text-align: right;\">\n",
       "      <th>col_0</th>\n",
       "      <th>count_issue</th>\n",
       "    </tr>\n",
       "    <tr>\n",
       "      <th>issue</th>\n",
       "      <th></th>\n",
       "    </tr>\n",
       "  </thead>\n",
       "  <tbody>\n",
       "    <tr>\n",
       "      <th>APR or interest rate</th>\n",
       "      <td>5449</td>\n",
       "    </tr>\n",
       "    <tr>\n",
       "      <th>Account opening, closing, or management</th>\n",
       "      <td>37018</td>\n",
       "    </tr>\n",
       "    <tr>\n",
       "      <th>Account terms and changes</th>\n",
       "      <td>479</td>\n",
       "    </tr>\n",
       "    <tr>\n",
       "      <th>Adding money</th>\n",
       "      <td>196</td>\n",
       "    </tr>\n",
       "    <tr>\n",
       "      <th>Advertising</th>\n",
       "      <td>35</td>\n",
       "    </tr>\n",
       "    <tr>\n",
       "      <th>...</th>\n",
       "      <td>...</td>\n",
       "    </tr>\n",
       "    <tr>\n",
       "      <th>Vehicle was repossessed or sold the vehicle</th>\n",
       "      <td>56</td>\n",
       "    </tr>\n",
       "    <tr>\n",
       "      <th>Was approved for a loan, but didn't receive money</th>\n",
       "      <td>7</td>\n",
       "    </tr>\n",
       "    <tr>\n",
       "      <th>Was approved for a loan, but didn't receive the money</th>\n",
       "      <td>36</td>\n",
       "    </tr>\n",
       "    <tr>\n",
       "      <th>Written notification about debt</th>\n",
       "      <td>12463</td>\n",
       "    </tr>\n",
       "    <tr>\n",
       "      <th>Wrong amount charged or received</th>\n",
       "      <td>386</td>\n",
       "    </tr>\n",
       "  </tbody>\n",
       "</table>\n",
       "<p>166 rows × 1 columns</p>\n",
       "</div>"
      ],
      "text/plain": [
       "col_0                                               count_issue\n",
       "issue                                                          \n",
       "APR or interest rate                                       5449\n",
       "Account opening, closing, or management                   37018\n",
       "Account terms and changes                                   479\n",
       "Adding money                                                196\n",
       "Advertising                                                  35\n",
       "...                                                         ...\n",
       "Vehicle was repossessed or sold the vehicle                  56\n",
       "Was approved for a loan, but didn't receive money             7\n",
       "Was approved for a loan, but didn't receive the...           36\n",
       "Written notification about debt                           12463\n",
       "Wrong amount charged or received                            386\n",
       "\n",
       "[166 rows x 1 columns]"
      ]
     },
     "execution_count": 100,
     "metadata": {},
     "output_type": "execute_result"
    }
   ],
   "source": [
    "\n",
    "Issue_tab = pd.crosstab(index=df.issue, columns=\"count_issue\")\n",
    "Issue_tab "
   ]
  },
  {
   "cell_type": "code",
   "execution_count": 101,
   "metadata": {
    "nbpresent": {
     "id": "64015d2b-3134-41eb-bda7-2ab9b4048b58"
    }
   },
   "outputs": [
    {
     "data": {
      "text/html": [
       "<div>\n",
       "<style scoped>\n",
       "    .dataframe tbody tr th:only-of-type {\n",
       "        vertical-align: middle;\n",
       "    }\n",
       "\n",
       "    .dataframe tbody tr th {\n",
       "        vertical-align: top;\n",
       "    }\n",
       "\n",
       "    .dataframe thead th {\n",
       "        text-align: right;\n",
       "    }\n",
       "</style>\n",
       "<table border=\"1\" class=\"dataframe\">\n",
       "  <thead>\n",
       "    <tr style=\"text-align: right;\">\n",
       "      <th>col_0</th>\n",
       "      <th>count_issue</th>\n",
       "    </tr>\n",
       "  </thead>\n",
       "  <tbody>\n",
       "    <tr>\n",
       "      <th>count</th>\n",
       "      <td>166.000000</td>\n",
       "    </tr>\n",
       "    <tr>\n",
       "      <th>mean</th>\n",
       "      <td>6074.048193</td>\n",
       "    </tr>\n",
       "    <tr>\n",
       "      <th>std</th>\n",
       "      <td>15260.596179</td>\n",
       "    </tr>\n",
       "    <tr>\n",
       "      <th>min</th>\n",
       "      <td>1.000000</td>\n",
       "    </tr>\n",
       "    <tr>\n",
       "      <th>25%</th>\n",
       "      <td>214.500000</td>\n",
       "    </tr>\n",
       "    <tr>\n",
       "      <th>50%</th>\n",
       "      <td>1136.000000</td>\n",
       "    </tr>\n",
       "    <tr>\n",
       "      <th>75%</th>\n",
       "      <td>4273.500000</td>\n",
       "    </tr>\n",
       "    <tr>\n",
       "      <th>max</th>\n",
       "      <td>111093.000000</td>\n",
       "    </tr>\n",
       "  </tbody>\n",
       "</table>\n",
       "</div>"
      ],
      "text/plain": [
       "col_0    count_issue\n",
       "count     166.000000\n",
       "mean     6074.048193\n",
       "std     15260.596179\n",
       "min         1.000000\n",
       "25%       214.500000\n",
       "50%      1136.000000\n",
       "75%      4273.500000\n",
       "max    111093.000000"
      ]
     },
     "execution_count": 101,
     "metadata": {},
     "output_type": "execute_result"
    }
   ],
   "source": [
    "Issue_tab.describe()"
   ]
  },
  {
   "cell_type": "code",
   "execution_count": 102,
   "metadata": {
    "nbpresent": {
     "id": "bfb52710-ebc6-4fac-842c-6257579fa012"
    }
   },
   "outputs": [
    {
     "data": {
      "text/plain": [
       "Loan modification,collection,foreclosure    111093\n",
       "Incorrect information on credit report      101898\n",
       "Loan servicing, payments, escrow account     76565\n",
       "Cont'd attempts collect debt not owed        60145\n",
       "Incorrect information on your report         59709\n",
       "Name: issue, dtype: int64"
      ]
     },
     "execution_count": 102,
     "metadata": {},
     "output_type": "execute_result"
    }
   ],
   "source": [
    "# get the top 5 issues people complianed about\n",
    "top_5_complaint_issue =df1.issue.value_counts().nlargest(5)\n",
    "top_5_complaint_issue"
   ]
  },
  {
   "cell_type": "code",
   "execution_count": 103,
   "metadata": {
    "nbpresent": {
     "id": "41d93b93-9fbb-4f06-a4c6-5fe855b30cc7"
    }
   },
   "outputs": [
    {
     "data": {
      "text/plain": [
       "count         5.000000\n",
       "mean      81882.000000\n",
       "std       23697.744429\n",
       "min       59709.000000\n",
       "25%       60145.000000\n",
       "50%       76565.000000\n",
       "75%      101898.000000\n",
       "max      111093.000000\n",
       "Name: issue, dtype: float64"
      ]
     },
     "execution_count": 103,
     "metadata": {},
     "output_type": "execute_result"
    }
   ],
   "source": [
    "top_5_complaint_issue.describe()"
   ]
  },
  {
   "cell_type": "code",
   "execution_count": 104,
   "metadata": {
    "nbpresent": {
     "id": "b14ddce3-278e-47ec-a516-ff1c251a94b7"
    }
   },
   "outputs": [],
   "source": [
    "# mean \n",
    "means1 = df1.issue.value_counts().mean()\n",
    "\n",
    "#standard deviation of issues\n",
    "errors1 = df1.issue.value_counts().std()"
   ]
  },
  {
   "cell_type": "code",
   "execution_count": 105,
   "metadata": {
    "nbpresent": {
     "id": "f1df115e-659f-4005-811a-60b466cf736c"
    }
   },
   "outputs": [
    {
     "data": {
      "image/png": "[encoded data removed]",
      "text/plain": [
       "<Figure size 432x288 with 1 Axes>"
      ]
     },
     "metadata": {},
     "output_type": "display_data"
    }
   ],
   "source": [
    "top_5_complaint_issue.plot(kind='barh',color='darkcyan',xerr=errors1,ecolor='r')\n",
    "\n",
    "\n",
    "plt.xlabel('# Values Count ')\n",
    "plt.ylabel('Issues')\n",
    "plt.title('Top 5 issues ')\n",
    "plt.legend(loc='upper right')\n",
    "plt.show()"
   ]
  },
  {
   "cell_type": "markdown",
   "metadata": {
    "collapsed": true,
    "nbpresent": {
     "id": "00ea6c55-5d92-4b70-a2bf-19fb131d7dde"
    }
   },
   "source": [
    "#### creating a series"
   ]
  },
  {
   "cell_type": "code",
   "execution_count": 106,
   "metadata": {
    "nbpresent": {
     "id": "791c8c21-a47e-4d89-93fa-9e8f7287e8cf"
    }
   },
   "outputs": [
    {
     "data": {
      "text/html": [
       "<div>\n",
       "<style scoped>\n",
       "    .dataframe tbody tr th:only-of-type {\n",
       "        vertical-align: middle;\n",
       "    }\n",
       "\n",
       "    .dataframe tbody tr th {\n",
       "        vertical-align: top;\n",
       "    }\n",
       "\n",
       "    .dataframe thead th {\n",
       "        text-align: right;\n",
       "    }\n",
       "</style>\n",
       "<table border=\"1\" class=\"dataframe\">\n",
       "  <thead>\n",
       "    <tr style=\"text-align: right;\">\n",
       "      <th></th>\n",
       "      <th>Date received</th>\n",
       "      <th>Product</th>\n",
       "      <th>Sub_product</th>\n",
       "      <th>issue</th>\n",
       "      <th>sub-issue</th>\n",
       "      <th>consumer_complaint_explanation</th>\n",
       "      <th>Company_response</th>\n",
       "      <th>Company</th>\n",
       "      <th>State</th>\n",
       "      <th>Postal_code</th>\n",
       "      <th>Consumer_consent_provided</th>\n",
       "      <th>Complaint_Submission_type</th>\n",
       "      <th>Company_response_to_consumer</th>\n",
       "      <th>Timely_response_yes_no</th>\n",
       "      <th>Consumer disagrees</th>\n",
       "      <th>EmailSubmission</th>\n",
       "      <th>FaxSubmission</th>\n",
       "      <th>PhoneSubmission</th>\n",
       "      <th>PostalSubmission</th>\n",
       "      <th>ReferralSubmission</th>\n",
       "      <th>WebSubmission</th>\n",
       "    </tr>\n",
       "    <tr>\n",
       "      <th>Date_sent_to_company</th>\n",
       "      <th></th>\n",
       "      <th></th>\n",
       "      <th></th>\n",
       "      <th></th>\n",
       "      <th></th>\n",
       "      <th></th>\n",
       "      <th></th>\n",
       "      <th></th>\n",
       "      <th></th>\n",
       "      <th></th>\n",
       "      <th></th>\n",
       "      <th></th>\n",
       "      <th></th>\n",
       "      <th></th>\n",
       "      <th></th>\n",
       "      <th></th>\n",
       "      <th></th>\n",
       "      <th></th>\n",
       "      <th></th>\n",
       "      <th></th>\n",
       "      <th></th>\n",
       "    </tr>\n",
       "  </thead>\n",
       "  <tbody>\n",
       "    <tr>\n",
       "      <th>2013-01-07</th>\n",
       "      <td>06/28/2013</td>\n",
       "      <td>Credit card</td>\n",
       "      <td>NaN</td>\n",
       "      <td>APR or interest rate</td>\n",
       "      <td>NaN</td>\n",
       "      <td>NaN</td>\n",
       "      <td>NaN</td>\n",
       "      <td>CITIBANK, N.A.</td>\n",
       "      <td>CA</td>\n",
       "      <td>92107</td>\n",
       "      <td>NaN</td>\n",
       "      <td>Web</td>\n",
       "      <td>Closed with monetary relief</td>\n",
       "      <td>Yes</td>\n",
       "      <td>No</td>\n",
       "      <td>False</td>\n",
       "      <td>False</td>\n",
       "      <td>False</td>\n",
       "      <td>False</td>\n",
       "      <td>False</td>\n",
       "      <td>True</td>\n",
       "    </tr>\n",
       "  </tbody>\n",
       "</table>\n",
       "</div>"
      ],
      "text/plain": [
       "                     Date received      Product Sub_product  \\\n",
       "Date_sent_to_company                                          \n",
       "2013-01-07              06/28/2013  Credit card         NaN   \n",
       "\n",
       "                                     issue sub-issue  \\\n",
       "Date_sent_to_company                                   \n",
       "2013-01-07            APR or interest rate       NaN   \n",
       "\n",
       "                     consumer_complaint_explanation Company_response  \\\n",
       "Date_sent_to_company                                                   \n",
       "2013-01-07                                      NaN              NaN   \n",
       "\n",
       "                             Company State Postal_code  \\\n",
       "Date_sent_to_company                                     \n",
       "2013-01-07            CITIBANK, N.A.    CA       92107   \n",
       "\n",
       "                     Consumer_consent_provided Complaint_Submission_type  \\\n",
       "Date_sent_to_company                                                       \n",
       "2013-01-07                                 NaN                       Web   \n",
       "\n",
       "                     Company_response_to_consumer Timely_response_yes_no  \\\n",
       "Date_sent_to_company                                                       \n",
       "2013-01-07            Closed with monetary relief                    Yes   \n",
       "\n",
       "                     Consumer disagrees  EmailSubmission  FaxSubmission  \\\n",
       "Date_sent_to_company                                                      \n",
       "2013-01-07                           No            False          False   \n",
       "\n",
       "                      PhoneSubmission  PostalSubmission  ReferralSubmission  \\\n",
       "Date_sent_to_company                                                          \n",
       "2013-01-07                      False             False               False   \n",
       "\n",
       "                      WebSubmission  \n",
       "Date_sent_to_company                 \n",
       "2013-01-07                     True  "
      ]
     },
     "execution_count": 106,
     "metadata": {},
     "output_type": "execute_result"
    }
   ],
   "source": [
    "state_filter = ((df[\"Product\"] == \"Credit card\" ) & \n",
    "                   (df[\"State\"] == \"CA\" ))\n",
    "                   \n",
    "CA_Creditcard =df[state_filter].copy()\n",
    "#european_stations[\"Country\"].unique()\n",
    "CA_Creditcard.head(1)"
   ]
  },
  {
   "cell_type": "code",
   "execution_count": 107,
   "metadata": {
    "nbpresent": {
     "id": "5c26f076-ca23-42f8-8044-1e08e0841c18"
    }
   },
   "outputs": [],
   "source": [
    "\n",
    "CAcrdedit_card = CA_Creditcard.loc[:,(\"Product\", \"State\") ]  \n"
   ]
  },
  {
   "cell_type": "code",
   "execution_count": 108,
   "metadata": {
    "nbpresent": {
     "id": "8dcf9d66-7a3f-4528-937f-21a6d943425c"
    }
   },
   "outputs": [
    {
     "data": {
      "text/html": [
       "<div>\n",
       "<style scoped>\n",
       "    .dataframe tbody tr th:only-of-type {\n",
       "        vertical-align: middle;\n",
       "    }\n",
       "\n",
       "    .dataframe tbody tr th {\n",
       "        vertical-align: top;\n",
       "    }\n",
       "\n",
       "    .dataframe thead th {\n",
       "        text-align: right;\n",
       "    }\n",
       "</style>\n",
       "<table border=\"1\" class=\"dataframe\">\n",
       "  <thead>\n",
       "    <tr style=\"text-align: right;\">\n",
       "      <th></th>\n",
       "      <th>Product</th>\n",
       "      <th>State</th>\n",
       "    </tr>\n",
       "  </thead>\n",
       "  <tbody>\n",
       "    <tr>\n",
       "      <th>count</th>\n",
       "      <td>12315</td>\n",
       "      <td>12315</td>\n",
       "    </tr>\n",
       "    <tr>\n",
       "      <th>unique</th>\n",
       "      <td>1</td>\n",
       "      <td>1</td>\n",
       "    </tr>\n",
       "    <tr>\n",
       "      <th>top</th>\n",
       "      <td>Credit card</td>\n",
       "      <td>CA</td>\n",
       "    </tr>\n",
       "    <tr>\n",
       "      <th>freq</th>\n",
       "      <td>12315</td>\n",
       "      <td>12315</td>\n",
       "    </tr>\n",
       "  </tbody>\n",
       "</table>\n",
       "</div>"
      ],
      "text/plain": [
       "            Product  State\n",
       "count         12315  12315\n",
       "unique            1      1\n",
       "top     Credit card     CA\n",
       "freq          12315  12315"
      ]
     },
     "execution_count": 108,
     "metadata": {},
     "output_type": "execute_result"
    }
   ],
   "source": [
    "CAcrdedit_card.describe()"
   ]
  },
  {
   "cell_type": "code",
   "execution_count": 109,
   "metadata": {
    "nbpresent": {
     "id": "d6a52236-7be9-4872-ac38-da230d0af8e6"
    }
   },
   "outputs": [
    {
     "data": {
      "text/html": [
       "<div>\n",
       "<style scoped>\n",
       "    .dataframe tbody tr th:only-of-type {\n",
       "        vertical-align: middle;\n",
       "    }\n",
       "\n",
       "    .dataframe tbody tr th {\n",
       "        vertical-align: top;\n",
       "    }\n",
       "\n",
       "    .dataframe thead th {\n",
       "        text-align: right;\n",
       "    }\n",
       "</style>\n",
       "<table border=\"1\" class=\"dataframe\">\n",
       "  <thead>\n",
       "    <tr style=\"text-align: right;\">\n",
       "      <th></th>\n",
       "      <th>Date received</th>\n",
       "      <th>Product</th>\n",
       "      <th>Sub_product</th>\n",
       "      <th>issue</th>\n",
       "      <th>sub-issue</th>\n",
       "      <th>consumer_complaint_explanation</th>\n",
       "      <th>Company_response</th>\n",
       "      <th>Company</th>\n",
       "      <th>State</th>\n",
       "      <th>Postal_code</th>\n",
       "      <th>Consumer_consent_provided</th>\n",
       "      <th>Complaint_Submission_type</th>\n",
       "      <th>Company_response_to_consumer</th>\n",
       "      <th>Timely_response_yes_no</th>\n",
       "      <th>Consumer disagrees</th>\n",
       "      <th>EmailSubmission</th>\n",
       "      <th>FaxSubmission</th>\n",
       "      <th>PhoneSubmission</th>\n",
       "      <th>PostalSubmission</th>\n",
       "      <th>ReferralSubmission</th>\n",
       "      <th>WebSubmission</th>\n",
       "    </tr>\n",
       "    <tr>\n",
       "      <th>Date_sent_to_company</th>\n",
       "      <th></th>\n",
       "      <th></th>\n",
       "      <th></th>\n",
       "      <th></th>\n",
       "      <th></th>\n",
       "      <th></th>\n",
       "      <th></th>\n",
       "      <th></th>\n",
       "      <th></th>\n",
       "      <th></th>\n",
       "      <th></th>\n",
       "      <th></th>\n",
       "      <th></th>\n",
       "      <th></th>\n",
       "      <th></th>\n",
       "      <th></th>\n",
       "      <th></th>\n",
       "      <th></th>\n",
       "      <th></th>\n",
       "      <th></th>\n",
       "      <th></th>\n",
       "    </tr>\n",
       "  </thead>\n",
       "  <tbody>\n",
       "    <tr>\n",
       "      <th>2013-08-27</th>\n",
       "      <td>08/26/2013</td>\n",
       "      <td>Credit card</td>\n",
       "      <td>NaN</td>\n",
       "      <td>Bankruptcy</td>\n",
       "      <td>NaN</td>\n",
       "      <td>NaN</td>\n",
       "      <td>NaN</td>\n",
       "      <td>JPMORGAN CHASE &amp; CO.</td>\n",
       "      <td>MT</td>\n",
       "      <td>59828</td>\n",
       "      <td>NaN</td>\n",
       "      <td>Web</td>\n",
       "      <td>Closed with explanation</td>\n",
       "      <td>Yes</td>\n",
       "      <td>No</td>\n",
       "      <td>False</td>\n",
       "      <td>False</td>\n",
       "      <td>False</td>\n",
       "      <td>False</td>\n",
       "      <td>False</td>\n",
       "      <td>True</td>\n",
       "    </tr>\n",
       "  </tbody>\n",
       "</table>\n",
       "</div>"
      ],
      "text/plain": [
       "                     Date received      Product Sub_product       issue  \\\n",
       "Date_sent_to_company                                                      \n",
       "2013-08-27              08/26/2013  Credit card         NaN  Bankruptcy   \n",
       "\n",
       "                     sub-issue consumer_complaint_explanation  \\\n",
       "Date_sent_to_company                                            \n",
       "2013-08-27                 NaN                            NaN   \n",
       "\n",
       "                     Company_response               Company State Postal_code  \\\n",
       "Date_sent_to_company                                                            \n",
       "2013-08-27                        NaN  JPMORGAN CHASE & CO.    MT       59828   \n",
       "\n",
       "                     Consumer_consent_provided Complaint_Submission_type  \\\n",
       "Date_sent_to_company                                                       \n",
       "2013-08-27                                 NaN                       Web   \n",
       "\n",
       "                     Company_response_to_consumer Timely_response_yes_no  \\\n",
       "Date_sent_to_company                                                       \n",
       "2013-08-27                Closed with explanation                    Yes   \n",
       "\n",
       "                     Consumer disagrees  EmailSubmission  FaxSubmission  \\\n",
       "Date_sent_to_company                                                      \n",
       "2013-08-27                           No            False          False   \n",
       "\n",
       "                      PhoneSubmission  PostalSubmission  ReferralSubmission  \\\n",
       "Date_sent_to_company                                                          \n",
       "2013-08-27                      False             False               False   \n",
       "\n",
       "                      WebSubmission  \n",
       "Date_sent_to_company                 \n",
       "2013-08-27                     True  "
      ]
     },
     "execution_count": 109,
     "metadata": {},
     "output_type": "execute_result"
    }
   ],
   "source": [
    "state_filter = ((df[\"Product\"] == \"Credit card\" ) & \n",
    "                   (df[\"State\"] == \"MT\" ))\n",
    "MT_Creditcard =df[state_filter].copy()\n",
    "#european_stations[\"Country\"].unique()\n",
    "MT_Creditcard.head(1)"
   ]
  },
  {
   "cell_type": "code",
   "execution_count": 110,
   "metadata": {
    "nbpresent": {
     "id": "b3b12d37-d658-4905-8942-4a9482000f31"
    }
   },
   "outputs": [],
   "source": [
    "\n",
    "MTcrdedit_card = MT_Creditcard.loc[:,(\"Product\", \"State\") ]  "
   ]
  },
  {
   "cell_type": "code",
   "execution_count": 111,
   "metadata": {
    "nbpresent": {
     "id": "4b065baf-76e3-4795-b7d0-6c8206d01001"
    }
   },
   "outputs": [
    {
     "data": {
      "text/html": [
       "<div>\n",
       "<style scoped>\n",
       "    .dataframe tbody tr th:only-of-type {\n",
       "        vertical-align: middle;\n",
       "    }\n",
       "\n",
       "    .dataframe tbody tr th {\n",
       "        vertical-align: top;\n",
       "    }\n",
       "\n",
       "    .dataframe thead th {\n",
       "        text-align: right;\n",
       "    }\n",
       "</style>\n",
       "<table border=\"1\" class=\"dataframe\">\n",
       "  <thead>\n",
       "    <tr style=\"text-align: right;\">\n",
       "      <th></th>\n",
       "      <th>Product</th>\n",
       "      <th>State</th>\n",
       "    </tr>\n",
       "  </thead>\n",
       "  <tbody>\n",
       "    <tr>\n",
       "      <th>count</th>\n",
       "      <td>183</td>\n",
       "      <td>183</td>\n",
       "    </tr>\n",
       "    <tr>\n",
       "      <th>unique</th>\n",
       "      <td>1</td>\n",
       "      <td>1</td>\n",
       "    </tr>\n",
       "    <tr>\n",
       "      <th>top</th>\n",
       "      <td>Credit card</td>\n",
       "      <td>MT</td>\n",
       "    </tr>\n",
       "    <tr>\n",
       "      <th>freq</th>\n",
       "      <td>183</td>\n",
       "      <td>183</td>\n",
       "    </tr>\n",
       "  </tbody>\n",
       "</table>\n",
       "</div>"
      ],
      "text/plain": [
       "            Product State\n",
       "count           183   183\n",
       "unique            1     1\n",
       "top     Credit card    MT\n",
       "freq            183   183"
      ]
     },
     "execution_count": 111,
     "metadata": {},
     "output_type": "execute_result"
    }
   ],
   "source": [
    "MTcrdedit_card.describe()"
   ]
  },
  {
   "cell_type": "code",
   "execution_count": 112,
   "metadata": {
    "nbpresent": {
     "id": "a6cf21e7-af0d-4c9e-94f9-901a2a6845cd"
    }
   },
   "outputs": [
    {
     "data": {
      "text/html": [
       "<div>\n",
       "<style scoped>\n",
       "    .dataframe tbody tr th:only-of-type {\n",
       "        vertical-align: middle;\n",
       "    }\n",
       "\n",
       "    .dataframe tbody tr th {\n",
       "        vertical-align: top;\n",
       "    }\n",
       "\n",
       "    .dataframe thead th {\n",
       "        text-align: right;\n",
       "    }\n",
       "</style>\n",
       "<table border=\"1\" class=\"dataframe\">\n",
       "  <thead>\n",
       "    <tr style=\"text-align: right;\">\n",
       "      <th></th>\n",
       "      <th>Date received</th>\n",
       "      <th>Product</th>\n",
       "      <th>Sub_product</th>\n",
       "      <th>issue</th>\n",
       "      <th>sub-issue</th>\n",
       "      <th>consumer_complaint_explanation</th>\n",
       "      <th>Company_response</th>\n",
       "      <th>Company</th>\n",
       "      <th>State</th>\n",
       "      <th>Postal_code</th>\n",
       "      <th>Consumer_consent_provided</th>\n",
       "      <th>Complaint_Submission_type</th>\n",
       "      <th>Company_response_to_consumer</th>\n",
       "      <th>Timely_response_yes_no</th>\n",
       "      <th>Consumer disagrees</th>\n",
       "      <th>EmailSubmission</th>\n",
       "      <th>FaxSubmission</th>\n",
       "      <th>PhoneSubmission</th>\n",
       "      <th>PostalSubmission</th>\n",
       "      <th>ReferralSubmission</th>\n",
       "      <th>WebSubmission</th>\n",
       "    </tr>\n",
       "    <tr>\n",
       "      <th>Date_sent_to_company</th>\n",
       "      <th></th>\n",
       "      <th></th>\n",
       "      <th></th>\n",
       "      <th></th>\n",
       "      <th></th>\n",
       "      <th></th>\n",
       "      <th></th>\n",
       "      <th></th>\n",
       "      <th></th>\n",
       "      <th></th>\n",
       "      <th></th>\n",
       "      <th></th>\n",
       "      <th></th>\n",
       "      <th></th>\n",
       "      <th></th>\n",
       "      <th></th>\n",
       "      <th></th>\n",
       "      <th></th>\n",
       "      <th></th>\n",
       "      <th></th>\n",
       "      <th></th>\n",
       "    </tr>\n",
       "  </thead>\n",
       "  <tbody>\n",
       "  </tbody>\n",
       "</table>\n",
       "</div>"
      ],
      "text/plain": [
       "Empty DataFrame\n",
       "Columns: [Date received, Product, Sub_product, issue, sub-issue, consumer_complaint_explanation, Company_response, Company, State, Postal_code, Consumer_consent_provided, Complaint_Submission_type, Company_response_to_consumer, Timely_response_yes_no, Consumer disagrees, EmailSubmission, FaxSubmission, PhoneSubmission, PostalSubmission, ReferralSubmission, WebSubmission]\n",
       "Index: []"
      ]
     },
     "execution_count": 112,
     "metadata": {},
     "output_type": "execute_result"
    }
   ],
   "source": [
    "company_filter = ((df[\"Product\"] == \"Credit card\" ) & \n",
    "                   (df[\"Company\"] == \"Bank of America\" ))\n",
    "                   \n",
    "Creditcard =df[company_filter].copy()\n",
    "#european_stations[\"Country\"].unique()\n",
    "Creditcard.head(1)"
   ]
  },
  {
   "cell_type": "code",
   "execution_count": 113,
   "metadata": {
    "nbpresent": {
     "id": "32f8a770-4492-4a1b-950b-90ce84907f65"
    }
   },
   "outputs": [],
   "source": [
    " BoACreditcard = Creditcard.loc[:,(\"Product\", \"Company\") ]  "
   ]
  }
 ],
 "metadata": {
  "anaconda-cloud": {},
  "kernelspec": {
   "display_name": "Python 3 (ipykernel)",
   "language": "python",
   "name": "python3"
  },
  "language_info": {
   "codemirror_mode": {
    "name": "ipython",
    "version": 3
   },
   "file_extension": ".py",
   "mimetype": "text/x-python",
   "name": "python",
   "nbconvert_exporter": "python",
   "pygments_lexer": "ipython3",
   "version": "3.7.0"
  }
 },
 "nbformat": 4,
 "nbformat_minor": 1
}
